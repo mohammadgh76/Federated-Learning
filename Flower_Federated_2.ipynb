{
  "nbformat": 4,
  "nbformat_minor": 0,
  "metadata": {
    "colab": {
      "provenance": [],
      "gpuType": "T4",
      "authorship_tag": "ABX9TyOaNaZgGRnMv1GZExAVndTF",
      "include_colab_link": true
    },
    "kernelspec": {
      "name": "python3",
      "display_name": "Python 3"
    },
    "language_info": {
      "name": "python"
    },
    "accelerator": "GPU"
  },
  "cells": [
    {
      "cell_type": "markdown",
      "metadata": {
        "id": "view-in-github",
        "colab_type": "text"
      },
      "source": [
        "<a href=\"https://colab.research.google.com/github/mohammadgh76/Federated-Learning/blob/main/Flower_Federated_2.ipynb\" target=\"_parent\"><img src=\"https://colab.research.google.com/assets/colab-badge.svg\" alt=\"Open In Colab\"/></a>"
      ]
    },
    {
      "cell_type": "code",
      "execution_count": 1,
      "metadata": {
        "colab": {
          "base_uri": "https://localhost:8080/"
        },
        "id": "GWoSxi2bwM36",
        "outputId": "7f36d591-050d-4092-bad0-19e5a69cbdf5"
      },
      "outputs": [
        {
          "output_type": "stream",
          "name": "stdout",
          "text": [
            "\u001b[2K     \u001b[90m━━━━━━━━━━━━━━━━━━━━━━━━━━━━━━━━━━━━━━━━\u001b[0m \u001b[32m219.2/219.2 kB\u001b[0m \u001b[31m4.2 MB/s\u001b[0m eta \u001b[36m0:00:00\u001b[0m\n",
            "\u001b[2K     \u001b[90m━━━━━━━━━━━━━━━━━━━━━━━━━━━━━━━━━━━━━━━━\u001b[0m \u001b[32m2.1/2.1 MB\u001b[0m \u001b[31m13.2 MB/s\u001b[0m eta \u001b[36m0:00:00\u001b[0m\n",
            "\u001b[2K     \u001b[90m━━━━━━━━━━━━━━━━━━━━━━━━━━━━━━━━━━━━━━━━\u001b[0m \u001b[32m56.9/56.9 MB\u001b[0m \u001b[31m11.7 MB/s\u001b[0m eta \u001b[36m0:00:00\u001b[0m\n",
            "\u001b[?25h"
          ]
        }
      ],
      "source": [
        "!pip install -q flwr[simulation] torch torchvision"
      ]
    },
    {
      "cell_type": "code",
      "source": [
        "from collections import OrderedDict\n",
        "from typing import Dict, List, Optional, Tuple\n",
        "\n",
        "import numpy as np\n",
        "import torch\n",
        "import torch.nn as nn\n",
        "import torch.nn.functional as F\n",
        "import torchvision.transforms as transforms\n",
        "from torch.utils.data import DataLoader, random_split\n",
        "from torchvision.datasets import CIFAR10\n",
        "\n",
        "import flwr as fl\n",
        "\n",
        "DEVICE = torch.device(\"cuda\")  # Try \"cuda\" to train on GPU\n",
        "print(\n",
        "    f\"Training on {DEVICE} using PyTorch {torch.__version__} and Flower {fl.__version__}\"\n",
        ")"
      ],
      "metadata": {
        "colab": {
          "base_uri": "https://localhost:8080/"
        },
        "id": "AKe3bf6fwgaO",
        "outputId": "7c7e110f-8d9f-4991-ceff-eb341c40ec1c"
      },
      "execution_count": 3,
      "outputs": [
        {
          "output_type": "stream",
          "name": "stdout",
          "text": [
            "Training on cuda using PyTorch 2.1.0+cu118 and Flower 1.6.0\n"
          ]
        }
      ]
    },
    {
      "cell_type": "code",
      "source": [
        "NUM_CLIENTS = 10\n",
        "\n",
        "\n",
        "def load_datasets(num_clients: int):\n",
        "    # Download and transform CIFAR-10 (train and test)\n",
        "    transform = transforms.Compose(\n",
        "        [transforms.ToTensor(), transforms.Normalize((0.5, 0.5, 0.5), (0.5, 0.5, 0.5))]\n",
        "    )\n",
        "    trainset = CIFAR10(\"./dataset\", train=True, download=True, transform=transform)\n",
        "    testset = CIFAR10(\"./dataset\", train=False, download=True, transform=transform)\n",
        "\n",
        "    # Split training set into `num_clients` partitions to simulate different local datasets\n",
        "    partition_size = len(trainset) // num_clients\n",
        "    lengths = [partition_size] * num_clients\n",
        "    datasets = random_split(trainset, lengths, torch.Generator().manual_seed(42))\n",
        "\n",
        "    # Split each partition into train/val and create DataLoader\n",
        "    trainloaders = []\n",
        "    valloaders = []\n",
        "    for ds in datasets:\n",
        "        len_val = len(ds) // 10  # 10 % validation set\n",
        "        len_train = len(ds) - len_val\n",
        "        lengths = [len_train, len_val]\n",
        "        ds_train, ds_val = random_split(ds, lengths, torch.Generator().manual_seed(42))\n",
        "        trainloaders.append(DataLoader(ds_train, batch_size=32, shuffle=True))\n",
        "        valloaders.append(DataLoader(ds_val, batch_size=32))\n",
        "    testloader = DataLoader(testset, batch_size=32)\n",
        "    return trainloaders, valloaders, testloader\n",
        "\n",
        "\n",
        "trainloaders, valloaders, testloader = load_datasets(NUM_CLIENTS)"
      ],
      "metadata": {
        "colab": {
          "base_uri": "https://localhost:8080/"
        },
        "id": "Z3VtbDtSwpvF",
        "outputId": "e80b4e07-b608-4c15-85f8-3284920024d6"
      },
      "execution_count": 4,
      "outputs": [
        {
          "output_type": "stream",
          "name": "stdout",
          "text": [
            "Downloading https://www.cs.toronto.edu/~kriz/cifar-10-python.tar.gz to ./dataset/cifar-10-python.tar.gz\n"
          ]
        },
        {
          "output_type": "stream",
          "name": "stderr",
          "text": [
            "100%|██████████| 170498071/170498071 [00:03<00:00, 43341980.14it/s]\n"
          ]
        },
        {
          "output_type": "stream",
          "name": "stdout",
          "text": [
            "Extracting ./dataset/cifar-10-python.tar.gz to ./dataset\n",
            "Files already downloaded and verified\n"
          ]
        }
      ]
    },
    {
      "cell_type": "code",
      "source": [
        "class Net(nn.Module):\n",
        "    def __init__(self) -> None:\n",
        "        super(Net, self).__init__()\n",
        "        self.conv1 = nn.Conv2d(3, 6, 5)\n",
        "        self.pool = nn.MaxPool2d(2, 2)\n",
        "        self.conv2 = nn.Conv2d(6, 16, 5)\n",
        "        self.fc1 = nn.Linear(16 * 5 * 5, 120)\n",
        "        self.fc2 = nn.Linear(120, 84)\n",
        "        self.fc3 = nn.Linear(84, 10)\n",
        "\n",
        "    def forward(self, x: torch.Tensor) -> torch.Tensor:\n",
        "        x = self.pool(F.relu(self.conv1(x)))\n",
        "        x = self.pool(F.relu(self.conv2(x)))\n",
        "        x = x.view(-1, 16 * 5 * 5)\n",
        "        x = F.relu(self.fc1(x))\n",
        "        x = F.relu(self.fc2(x))\n",
        "        x = self.fc3(x)\n",
        "        return x\n",
        "\n",
        "\n",
        "def get_parameters(net) -> List[np.ndarray]:\n",
        "    return [val.cpu().numpy() for _, val in net.state_dict().items()]\n",
        "\n",
        "\n",
        "def set_parameters(net, parameters: List[np.ndarray]):\n",
        "    params_dict = zip(net.state_dict().keys(), parameters)\n",
        "    state_dict = OrderedDict({k: torch.Tensor(v) for k, v in params_dict})\n",
        "    net.load_state_dict(state_dict, strict=True)\n",
        "\n",
        "\n",
        "def train(net, trainloader, epochs: int):\n",
        "    \"\"\"Train the network on the training set.\"\"\"\n",
        "    criterion = torch.nn.CrossEntropyLoss()\n",
        "    optimizer = torch.optim.Adam(net.parameters())\n",
        "    net.train()\n",
        "    for epoch in range(epochs):\n",
        "        correct, total, epoch_loss = 0, 0, 0.0\n",
        "        for images, labels in trainloader:\n",
        "            images, labels = images.to(DEVICE), labels.to(DEVICE)\n",
        "            optimizer.zero_grad()\n",
        "            outputs = net(images)\n",
        "            loss = criterion(net(images), labels)\n",
        "            loss.backward()\n",
        "            optimizer.step()\n",
        "            # Metrics\n",
        "            epoch_loss += loss\n",
        "            total += labels.size(0)\n",
        "            correct += (torch.max(outputs.data, 1)[1] == labels).sum().item()\n",
        "        epoch_loss /= len(trainloader.dataset)\n",
        "        epoch_acc = correct / total\n",
        "        print(f\"Epoch {epoch+1}: train loss {epoch_loss}, accuracy {epoch_acc}\")\n",
        "\n",
        "\n",
        "def test(net, testloader):\n",
        "    \"\"\"Evaluate the network on the entire test set.\"\"\"\n",
        "    criterion = torch.nn.CrossEntropyLoss()\n",
        "    correct, total, loss = 0, 0, 0.0\n",
        "    net.eval()\n",
        "    with torch.no_grad():\n",
        "        for images, labels in testloader:\n",
        "            images, labels = images.to(DEVICE), labels.to(DEVICE)\n",
        "            outputs = net(images)\n",
        "            loss += criterion(outputs, labels).item()\n",
        "            _, predicted = torch.max(outputs.data, 1)\n",
        "            total += labels.size(0)\n",
        "            correct += (predicted == labels).sum().item()\n",
        "    loss /= len(testloader.dataset)\n",
        "    accuracy = correct / total\n",
        "    return loss, accuracy"
      ],
      "metadata": {
        "id": "gF9HjYwUw2T4"
      },
      "execution_count": 5,
      "outputs": []
    },
    {
      "cell_type": "code",
      "source": [
        "class FlowerClient(fl.client.NumPyClient):\n",
        "    def __init__(self, cid, net, trainloader, valloader):\n",
        "        self.cid = cid\n",
        "        self.net = net\n",
        "        self.trainloader = trainloader\n",
        "        self.valloader = valloader\n",
        "\n",
        "    def get_parameters(self, config):\n",
        "        print(f\"[Client {self.cid}] get_parameters\")\n",
        "        return get_parameters(self.net)\n",
        "\n",
        "    def fit(self, parameters, config):\n",
        "        print(f\"[Client {self.cid}] fit, config: {config}\")\n",
        "        set_parameters(self.net, parameters)\n",
        "        train(self.net, self.trainloader, epochs=1)\n",
        "        return get_parameters(self.net), len(self.trainloader), {}\n",
        "\n",
        "    def evaluate(self, parameters, config):\n",
        "        print(f\"[Client {self.cid}] evaluate, config: {config}\")\n",
        "        set_parameters(self.net, parameters)\n",
        "        loss, accuracy = test(self.net, self.valloader)\n",
        "        return float(loss), len(self.valloader), {\"accuracy\": float(accuracy)}\n",
        "\n",
        "\n",
        "def client_fn(cid) -> FlowerClient:\n",
        "    net = Net().to(DEVICE)\n",
        "    trainloader = trainloaders[int(cid)]\n",
        "    valloader = valloaders[int(cid)]\n",
        "    return FlowerClient(cid, net, trainloader, valloader)"
      ],
      "metadata": {
        "id": "9YaOr_Flw3wr"
      },
      "execution_count": 6,
      "outputs": []
    },
    {
      "cell_type": "code",
      "source": [
        "# Create an instance of the model and get the parameters\n",
        "params = get_parameters(Net())\n",
        "\n",
        "# Pass parameters to the Strategy for server-side parameter initialization\n",
        "strategy = fl.server.strategy.FedAvg(\n",
        "    fraction_fit=0.3,\n",
        "    fraction_evaluate=0.3,\n",
        "    min_fit_clients=3,\n",
        "    min_evaluate_clients=3,\n",
        "    min_available_clients=NUM_CLIENTS,\n",
        "    initial_parameters=fl.common.ndarrays_to_parameters(params),\n",
        ")\n",
        "\n",
        "# Specify client resources if you need GPU (defaults to 1 CPU and 0 GPU)\n",
        "client_resources = None\n",
        "if DEVICE.type == \"cuda\":\n",
        "    client_resources = {\"num_gpus\": 1}\n",
        "\n",
        "# Start simulation\n",
        "fl.simulation.start_simulation(\n",
        "    client_fn=client_fn,\n",
        "    num_clients=NUM_CLIENTS,\n",
        "    config=fl.server.ServerConfig(num_rounds=3),  # Just three rounds\n",
        "    strategy=strategy,\n",
        "    client_resources=client_resources,\n",
        ")"
      ],
      "metadata": {
        "colab": {
          "base_uri": "https://localhost:8080/"
        },
        "id": "iKBo7rxJxBAk",
        "outputId": "ee36868e-fb4e-4367-b21d-574b83a5c41e"
      },
      "execution_count": 7,
      "outputs": [
        {
          "output_type": "stream",
          "name": "stderr",
          "text": [
            "INFO flwr 2023-11-29 11:09:12,208 | app.py:178 | Starting Flower simulation, config: ServerConfig(num_rounds=3, round_timeout=None)\n",
            "INFO:flwr:Starting Flower simulation, config: ServerConfig(num_rounds=3, round_timeout=None)\n",
            "2023-11-29 11:09:14,712\tINFO worker.py:1621 -- Started a local Ray instance.\n",
            "INFO flwr 2023-11-29 11:09:18,109 | app.py:213 | Flower VCE: Ray initialized with resources: {'object_store_memory': 3933928243.0, 'CPU': 2.0, 'memory': 7867856487.0, 'GPU': 1.0, 'node:172.28.0.12': 1.0, 'node:__internal_head__': 1.0}\n",
            "INFO:flwr:Flower VCE: Ray initialized with resources: {'object_store_memory': 3933928243.0, 'CPU': 2.0, 'memory': 7867856487.0, 'GPU': 1.0, 'node:172.28.0.12': 1.0, 'node:__internal_head__': 1.0}\n",
            "INFO flwr 2023-11-29 11:09:18,124 | app.py:219 | Optimize your simulation with Flower VCE: https://flower.dev/docs/framework/how-to-run-simulations.html\n",
            "INFO:flwr:Optimize your simulation with Flower VCE: https://flower.dev/docs/framework/how-to-run-simulations.html\n",
            "<ipython-input-7-c85fd95e06e5>:20: UserWarning: No `num_cpus` specified in `client_resources`. Using `num_cpus=1` for each client.\n",
            "  fl.simulation.start_simulation(\n",
            "INFO flwr 2023-11-29 11:09:18,132 | app.py:242 | Flower VCE: Resources for each Virtual Client: {'num_gpus': 1, 'num_cpus': 1}\n",
            "INFO:flwr:Flower VCE: Resources for each Virtual Client: {'num_gpus': 1, 'num_cpus': 1}\n",
            "INFO flwr 2023-11-29 11:09:18,197 | app.py:288 | Flower VCE: Creating VirtualClientEngineActorPool with 1 actors\n",
            "INFO:flwr:Flower VCE: Creating VirtualClientEngineActorPool with 1 actors\n",
            "INFO flwr 2023-11-29 11:09:18,201 | server.py:89 | Initializing global parameters\n",
            "INFO:flwr:Initializing global parameters\n",
            "INFO flwr 2023-11-29 11:09:18,208 | server.py:272 | Using initial parameters provided by strategy\n",
            "INFO:flwr:Using initial parameters provided by strategy\n",
            "INFO flwr 2023-11-29 11:09:18,215 | server.py:91 | Evaluating initial parameters\n",
            "INFO:flwr:Evaluating initial parameters\n",
            "INFO flwr 2023-11-29 11:09:18,221 | server.py:104 | FL starting\n",
            "INFO:flwr:FL starting\n",
            "DEBUG flwr 2023-11-29 11:09:18,226 | server.py:222 | fit_round 1: strategy sampled 3 clients (out of 10)\n",
            "DEBUG:flwr:fit_round 1: strategy sampled 3 clients (out of 10)\n",
            "\u001b[2m\u001b[36m(pid=1451)\u001b[0m 2023-11-29 11:09:21.453723: E tensorflow/compiler/xla/stream_executor/cuda/cuda_dnn.cc:9342] Unable to register cuDNN factory: Attempting to register factory for plugin cuDNN when one has already been registered\n",
            "\u001b[2m\u001b[36m(pid=1451)\u001b[0m 2023-11-29 11:09:21.453790: E tensorflow/compiler/xla/stream_executor/cuda/cuda_fft.cc:609] Unable to register cuFFT factory: Attempting to register factory for plugin cuFFT when one has already been registered\n",
            "\u001b[2m\u001b[36m(pid=1451)\u001b[0m 2023-11-29 11:09:21.453829: E tensorflow/compiler/xla/stream_executor/cuda/cuda_blas.cc:1518] Unable to register cuBLAS factory: Attempting to register factory for plugin cuBLAS when one has already been registered\n",
            "\u001b[2m\u001b[36m(pid=1451)\u001b[0m 2023-11-29 11:09:22.512261: W tensorflow/compiler/tf2tensorrt/utils/py_utils.cc:38] TF-TRT Warning: Could not find TensorRT\n"
          ]
        },
        {
          "output_type": "stream",
          "name": "stdout",
          "text": [
            "\u001b[2m\u001b[36m(DefaultActor pid=1451)\u001b[0m [Client 1] fit, config: {}\n",
            "\u001b[2m\u001b[36m(DefaultActor pid=1451)\u001b[0m Epoch 1: train loss 0.0638229250907898, accuracy 0.2528888888888889\n",
            "\u001b[2m\u001b[36m(DefaultActor pid=1451)\u001b[0m [Client 5] fit, config: {}\n",
            "\u001b[2m\u001b[36m(DefaultActor pid=1451)\u001b[0m Epoch 1: train loss 0.06438450515270233, accuracy 0.23155555555555554\n",
            "\u001b[2m\u001b[36m(DefaultActor pid=1451)\u001b[0m [Client 9] fit, config: {}\n"
          ]
        },
        {
          "output_type": "stream",
          "name": "stderr",
          "text": [
            "DEBUG flwr 2023-11-29 11:09:36,320 | server.py:236 | fit_round 1 received 3 results and 0 failures\n",
            "DEBUG:flwr:fit_round 1 received 3 results and 0 failures\n",
            "WARNING flwr 2023-11-29 11:09:36,341 | fedavg.py:242 | No fit_metrics_aggregation_fn provided\n",
            "WARNING:flwr:No fit_metrics_aggregation_fn provided\n",
            "DEBUG flwr 2023-11-29 11:09:36,348 | server.py:173 | evaluate_round 1: strategy sampled 3 clients (out of 10)\n",
            "DEBUG:flwr:evaluate_round 1: strategy sampled 3 clients (out of 10)\n"
          ]
        },
        {
          "output_type": "stream",
          "name": "stdout",
          "text": [
            "\u001b[2m\u001b[36m(DefaultActor pid=1451)\u001b[0m Epoch 1: train loss 0.06452934443950653, accuracy 0.236\n",
            "\u001b[2m\u001b[36m(DefaultActor pid=1451)\u001b[0m [Client 3] evaluate, config: {}\n",
            "\u001b[2m\u001b[36m(DefaultActor pid=1451)\u001b[0m [Client 4] evaluate, config: {}\n"
          ]
        },
        {
          "output_type": "stream",
          "name": "stderr",
          "text": [
            "DEBUG flwr 2023-11-29 11:09:40,638 | server.py:187 | evaluate_round 1 received 3 results and 0 failures\n",
            "DEBUG:flwr:evaluate_round 1 received 3 results and 0 failures\n",
            "WARNING flwr 2023-11-29 11:09:40,642 | fedavg.py:273 | No evaluate_metrics_aggregation_fn provided\n",
            "WARNING:flwr:No evaluate_metrics_aggregation_fn provided\n",
            "DEBUG flwr 2023-11-29 11:09:40,644 | server.py:222 | fit_round 2: strategy sampled 3 clients (out of 10)\n",
            "DEBUG:flwr:fit_round 2: strategy sampled 3 clients (out of 10)\n"
          ]
        },
        {
          "output_type": "stream",
          "name": "stdout",
          "text": [
            "\u001b[2m\u001b[36m(DefaultActor pid=1451)\u001b[0m [Client 2] evaluate, config: {}\n",
            "\u001b[2m\u001b[36m(DefaultActor pid=1451)\u001b[0m [Client 5] fit, config: {}\n",
            "\u001b[2m\u001b[36m(DefaultActor pid=1451)\u001b[0m Epoch 1: train loss 0.05644272267818451, accuracy 0.3362222222222222\n",
            "\u001b[2m\u001b[36m(DefaultActor pid=1451)\u001b[0m [Client 3] fit, config: {}\n",
            "\u001b[2m\u001b[36m(DefaultActor pid=1451)\u001b[0m Epoch 1: train loss 0.05617936700582504, accuracy 0.332\n",
            "\u001b[2m\u001b[36m(DefaultActor pid=1451)\u001b[0m [Client 6] fit, config: {}\n"
          ]
        },
        {
          "output_type": "stream",
          "name": "stderr",
          "text": [
            "DEBUG flwr 2023-11-29 11:09:49,105 | server.py:236 | fit_round 2 received 3 results and 0 failures\n",
            "DEBUG:flwr:fit_round 2 received 3 results and 0 failures\n",
            "DEBUG flwr 2023-11-29 11:09:49,125 | server.py:173 | evaluate_round 2: strategy sampled 3 clients (out of 10)\n",
            "DEBUG:flwr:evaluate_round 2: strategy sampled 3 clients (out of 10)\n"
          ]
        },
        {
          "output_type": "stream",
          "name": "stdout",
          "text": [
            "\u001b[2m\u001b[36m(DefaultActor pid=1451)\u001b[0m Epoch 1: train loss 0.057157620787620544, accuracy 0.32555555555555554\n",
            "\u001b[2m\u001b[36m(DefaultActor pid=1451)\u001b[0m [Client 2] evaluate, config: {}\n",
            "\u001b[2m\u001b[36m(DefaultActor pid=1451)\u001b[0m [Client 7] evaluate, config: {}\n"
          ]
        },
        {
          "output_type": "stream",
          "name": "stderr",
          "text": [
            "DEBUG flwr 2023-11-29 11:09:54,302 | server.py:187 | evaluate_round 2 received 3 results and 0 failures\n",
            "DEBUG:flwr:evaluate_round 2 received 3 results and 0 failures\n",
            "DEBUG flwr 2023-11-29 11:09:54,305 | server.py:222 | fit_round 3: strategy sampled 3 clients (out of 10)\n",
            "DEBUG:flwr:fit_round 3: strategy sampled 3 clients (out of 10)\n"
          ]
        },
        {
          "output_type": "stream",
          "name": "stdout",
          "text": [
            "\u001b[2m\u001b[36m(DefaultActor pid=1451)\u001b[0m [Client 6] evaluate, config: {}\n",
            "\u001b[2m\u001b[36m(DefaultActor pid=1451)\u001b[0m [Client 5] fit, config: {}\n",
            "\u001b[2m\u001b[36m(DefaultActor pid=1451)\u001b[0m Epoch 1: train loss 0.0528167262673378, accuracy 0.38466666666666666\n",
            "\u001b[2m\u001b[36m(DefaultActor pid=1451)\u001b[0m [Client 9] fit, config: {}\n",
            "\u001b[2m\u001b[36m(DefaultActor pid=1451)\u001b[0m Epoch 1: train loss 0.053224511444568634, accuracy 0.37355555555555553\n",
            "\u001b[2m\u001b[36m(DefaultActor pid=1451)\u001b[0m [Client 1] fit, config: {}\n"
          ]
        },
        {
          "output_type": "stream",
          "name": "stderr",
          "text": [
            "DEBUG flwr 2023-11-29 11:10:02,599 | server.py:236 | fit_round 3 received 3 results and 0 failures\n",
            "DEBUG:flwr:fit_round 3 received 3 results and 0 failures\n",
            "DEBUG flwr 2023-11-29 11:10:02,624 | server.py:173 | evaluate_round 3: strategy sampled 3 clients (out of 10)\n",
            "DEBUG:flwr:evaluate_round 3: strategy sampled 3 clients (out of 10)\n"
          ]
        },
        {
          "output_type": "stream",
          "name": "stdout",
          "text": [
            "\u001b[2m\u001b[36m(DefaultActor pid=1451)\u001b[0m Epoch 1: train loss 0.0519898496568203, accuracy 0.38822222222222225\n",
            "\u001b[2m\u001b[36m(DefaultActor pid=1451)\u001b[0m [Client 0] evaluate, config: {}\n",
            "\u001b[2m\u001b[36m(DefaultActor pid=1451)\u001b[0m [Client 8] evaluate, config: {}\n"
          ]
        },
        {
          "output_type": "stream",
          "name": "stderr",
          "text": [
            "DEBUG flwr 2023-11-29 11:10:08,558 | server.py:187 | evaluate_round 3 received 3 results and 0 failures\n",
            "DEBUG:flwr:evaluate_round 3 received 3 results and 0 failures\n",
            "INFO flwr 2023-11-29 11:10:08,561 | server.py:153 | FL finished in 50.33451021299999\n",
            "INFO:flwr:FL finished in 50.33451021299999\n",
            "INFO flwr 2023-11-29 11:10:08,563 | app.py:226 | app_fit: losses_distributed [(1, 0.061104728857676184), (2, 0.053842438062032066), (3, 0.05193756834665934)]\n",
            "INFO:flwr:app_fit: losses_distributed [(1, 0.061104728857676184), (2, 0.053842438062032066), (3, 0.05193756834665934)]\n",
            "INFO flwr 2023-11-29 11:10:08,565 | app.py:227 | app_fit: metrics_distributed_fit {}\n",
            "INFO:flwr:app_fit: metrics_distributed_fit {}\n",
            "INFO flwr 2023-11-29 11:10:08,567 | app.py:228 | app_fit: metrics_distributed {}\n",
            "INFO:flwr:app_fit: metrics_distributed {}\n",
            "INFO flwr 2023-11-29 11:10:08,569 | app.py:229 | app_fit: losses_centralized []\n",
            "INFO:flwr:app_fit: losses_centralized []\n",
            "INFO flwr 2023-11-29 11:10:08,571 | app.py:230 | app_fit: metrics_centralized {}\n",
            "INFO:flwr:app_fit: metrics_centralized {}\n"
          ]
        },
        {
          "output_type": "stream",
          "name": "stdout",
          "text": [
            "\u001b[2m\u001b[36m(DefaultActor pid=1451)\u001b[0m [Client 1] evaluate, config: {}\n"
          ]
        },
        {
          "output_type": "execute_result",
          "data": {
            "text/plain": [
              "History (loss, distributed):\n",
              "\tround 1: 0.061104728857676184\n",
              "\tround 2: 0.053842438062032066\n",
              "\tround 3: 0.05193756834665934"
            ]
          },
          "metadata": {},
          "execution_count": 7
        }
      ]
    },
    {
      "cell_type": "code",
      "source": [
        "# Create FedAdam strategy\n",
        "strategy = fl.server.strategy.FedAdagrad(\n",
        "    fraction_fit=0.3,\n",
        "    fraction_evaluate=0.3,\n",
        "    min_fit_clients=3,\n",
        "    min_evaluate_clients=3,\n",
        "    min_available_clients=NUM_CLIENTS,\n",
        "    initial_parameters=fl.common.ndarrays_to_parameters(get_parameters(Net())),\n",
        ")\n",
        "\n",
        "# Start simulation\n",
        "fl.simulation.start_simulation(\n",
        "    client_fn=client_fn,\n",
        "    num_clients=NUM_CLIENTS,\n",
        "    config=fl.server.ServerConfig(num_rounds=3),  # Just three rounds\n",
        "    strategy=strategy,\n",
        "    client_resources=client_resources,\n",
        ")"
      ],
      "metadata": {
        "colab": {
          "base_uri": "https://localhost:8080/"
        },
        "id": "YQScuQ-YyYi_",
        "outputId": "dad15a77-ba2e-43d6-a808-33d4641e98d8"
      },
      "execution_count": 8,
      "outputs": [
        {
          "output_type": "stream",
          "name": "stderr",
          "text": [
            "INFO flwr 2023-11-29 11:14:11,713 | app.py:178 | Starting Flower simulation, config: ServerConfig(num_rounds=3, round_timeout=None)\n",
            "INFO:flwr:Starting Flower simulation, config: ServerConfig(num_rounds=3, round_timeout=None)\n",
            "2023-11-29 11:14:15,806\tINFO worker.py:1621 -- Started a local Ray instance.\n",
            "INFO flwr 2023-11-29 11:14:17,823 | app.py:213 | Flower VCE: Ray initialized with resources: {'CPU': 2.0, 'object_store_memory': 3930340147.0, 'memory': 7860680295.0, 'node:172.28.0.12': 1.0, 'GPU': 1.0, 'node:__internal_head__': 1.0}\n",
            "INFO:flwr:Flower VCE: Ray initialized with resources: {'CPU': 2.0, 'object_store_memory': 3930340147.0, 'memory': 7860680295.0, 'node:172.28.0.12': 1.0, 'GPU': 1.0, 'node:__internal_head__': 1.0}\n",
            "INFO flwr 2023-11-29 11:14:17,826 | app.py:219 | Optimize your simulation with Flower VCE: https://flower.dev/docs/framework/how-to-run-simulations.html\n",
            "INFO:flwr:Optimize your simulation with Flower VCE: https://flower.dev/docs/framework/how-to-run-simulations.html\n",
            "INFO flwr 2023-11-29 11:14:17,833 | app.py:242 | Flower VCE: Resources for each Virtual Client: {'num_gpus': 1, 'num_cpus': 1}\n",
            "INFO:flwr:Flower VCE: Resources for each Virtual Client: {'num_gpus': 1, 'num_cpus': 1}\n",
            "INFO flwr 2023-11-29 11:14:17,876 | app.py:288 | Flower VCE: Creating VirtualClientEngineActorPool with 1 actors\n",
            "INFO:flwr:Flower VCE: Creating VirtualClientEngineActorPool with 1 actors\n",
            "INFO flwr 2023-11-29 11:14:17,884 | server.py:89 | Initializing global parameters\n",
            "INFO:flwr:Initializing global parameters\n",
            "INFO flwr 2023-11-29 11:14:17,894 | server.py:272 | Using initial parameters provided by strategy\n",
            "INFO:flwr:Using initial parameters provided by strategy\n",
            "INFO flwr 2023-11-29 11:14:17,899 | server.py:91 | Evaluating initial parameters\n",
            "INFO:flwr:Evaluating initial parameters\n",
            "INFO flwr 2023-11-29 11:14:17,903 | server.py:104 | FL starting\n",
            "INFO:flwr:FL starting\n",
            "DEBUG flwr 2023-11-29 11:14:17,908 | server.py:222 | fit_round 1: strategy sampled 3 clients (out of 10)\n",
            "DEBUG:flwr:fit_round 1: strategy sampled 3 clients (out of 10)\n",
            "\u001b[2m\u001b[36m(pid=2911)\u001b[0m 2023-11-29 11:14:19.710244: E tensorflow/compiler/xla/stream_executor/cuda/cuda_dnn.cc:9342] Unable to register cuDNN factory: Attempting to register factory for plugin cuDNN when one has already been registered\n",
            "\u001b[2m\u001b[36m(pid=2911)\u001b[0m 2023-11-29 11:14:19.710305: E tensorflow/compiler/xla/stream_executor/cuda/cuda_fft.cc:609] Unable to register cuFFT factory: Attempting to register factory for plugin cuFFT when one has already been registered\n",
            "\u001b[2m\u001b[36m(pid=2911)\u001b[0m 2023-11-29 11:14:19.710380: E tensorflow/compiler/xla/stream_executor/cuda/cuda_blas.cc:1518] Unable to register cuBLAS factory: Attempting to register factory for plugin cuBLAS when one has already been registered\n",
            "\u001b[2m\u001b[36m(pid=2911)\u001b[0m 2023-11-29 11:14:20.960562: W tensorflow/compiler/tf2tensorrt/utils/py_utils.cc:38] TF-TRT Warning: Could not find TensorRT\n"
          ]
        },
        {
          "output_type": "stream",
          "name": "stdout",
          "text": [
            "\u001b[2m\u001b[36m(DefaultActor pid=2911)\u001b[0m [Client 6] fit, config: {}\n",
            "\u001b[2m\u001b[36m(DefaultActor pid=2911)\u001b[0m Epoch 1: train loss 0.06659378111362457, accuracy 0.2091111111111111\n",
            "\u001b[2m\u001b[36m(DefaultActor pid=2911)\u001b[0m [Client 3] fit, config: {}\n",
            "\u001b[2m\u001b[36m(DefaultActor pid=2911)\u001b[0m Epoch 1: train loss 0.06633343547582626, accuracy 0.20622222222222222\n",
            "\u001b[2m\u001b[36m(DefaultActor pid=2911)\u001b[0m [Client 8] fit, config: {}\n"
          ]
        },
        {
          "output_type": "stream",
          "name": "stderr",
          "text": [
            "DEBUG flwr 2023-11-29 11:14:33,315 | server.py:236 | fit_round 1 received 3 results and 0 failures\n",
            "DEBUG:flwr:fit_round 1 received 3 results and 0 failures\n",
            "WARNING flwr 2023-11-29 11:14:33,333 | fedavg.py:242 | No fit_metrics_aggregation_fn provided\n",
            "WARNING:flwr:No fit_metrics_aggregation_fn provided\n",
            "DEBUG flwr 2023-11-29 11:14:33,343 | server.py:173 | evaluate_round 1: strategy sampled 3 clients (out of 10)\n",
            "DEBUG:flwr:evaluate_round 1: strategy sampled 3 clients (out of 10)\n"
          ]
        },
        {
          "output_type": "stream",
          "name": "stdout",
          "text": [
            "\u001b[2m\u001b[36m(DefaultActor pid=2911)\u001b[0m Epoch 1: train loss 0.06661941856145859, accuracy 0.218\n",
            "\u001b[2m\u001b[36m(DefaultActor pid=2911)\u001b[0m [Client 4] evaluate, config: {}\n",
            "\u001b[2m\u001b[36m(DefaultActor pid=2911)\u001b[0m [Client 9] evaluate, config: {}\n"
          ]
        },
        {
          "output_type": "stream",
          "name": "stderr",
          "text": [
            "DEBUG flwr 2023-11-29 11:14:37,836 | server.py:187 | evaluate_round 1 received 3 results and 0 failures\n",
            "DEBUG:flwr:evaluate_round 1 received 3 results and 0 failures\n",
            "WARNING flwr 2023-11-29 11:14:37,841 | fedavg.py:273 | No evaluate_metrics_aggregation_fn provided\n",
            "WARNING:flwr:No evaluate_metrics_aggregation_fn provided\n",
            "DEBUG flwr 2023-11-29 11:14:37,844 | server.py:222 | fit_round 2: strategy sampled 3 clients (out of 10)\n",
            "DEBUG:flwr:fit_round 2: strategy sampled 3 clients (out of 10)\n"
          ]
        },
        {
          "output_type": "stream",
          "name": "stdout",
          "text": [
            "\u001b[2m\u001b[36m(DefaultActor pid=2911)\u001b[0m [Client 3] evaluate, config: {}\n",
            "\u001b[2m\u001b[36m(DefaultActor pid=2911)\u001b[0m [Client 1] fit, config: {}\n",
            "\u001b[2m\u001b[36m(DefaultActor pid=2911)\u001b[0m Epoch 1: train loss 0.37365424633026123, accuracy 0.2588888888888889\n",
            "\u001b[2m\u001b[36m(DefaultActor pid=2911)\u001b[0m [Client 5] fit, config: {}\n",
            "\u001b[2m\u001b[36m(DefaultActor pid=2911)\u001b[0m Epoch 1: train loss 0.3861861824989319, accuracy 0.24822222222222223\n",
            "\u001b[2m\u001b[36m(DefaultActor pid=2911)\u001b[0m [Client 0] fit, config: {}\n"
          ]
        },
        {
          "output_type": "stream",
          "name": "stderr",
          "text": [
            "DEBUG flwr 2023-11-29 11:14:47,471 | server.py:236 | fit_round 2 received 3 results and 0 failures\n",
            "DEBUG:flwr:fit_round 2 received 3 results and 0 failures\n",
            "DEBUG flwr 2023-11-29 11:14:47,487 | server.py:173 | evaluate_round 2: strategy sampled 3 clients (out of 10)\n",
            "DEBUG:flwr:evaluate_round 2: strategy sampled 3 clients (out of 10)\n"
          ]
        },
        {
          "output_type": "stream",
          "name": "stdout",
          "text": [
            "\u001b[2m\u001b[36m(DefaultActor pid=2911)\u001b[0m Epoch 1: train loss 0.3992314636707306, accuracy 0.26022222222222224\n",
            "\u001b[2m\u001b[36m(DefaultActor pid=2911)\u001b[0m [Client 0] evaluate, config: {}\n",
            "\u001b[2m\u001b[36m(DefaultActor pid=2911)\u001b[0m [Client 7] evaluate, config: {}\n"
          ]
        },
        {
          "output_type": "stream",
          "name": "stderr",
          "text": [
            "DEBUG flwr 2023-11-29 11:14:51,712 | server.py:187 | evaluate_round 2 received 3 results and 0 failures\n",
            "DEBUG:flwr:evaluate_round 2 received 3 results and 0 failures\n",
            "DEBUG flwr 2023-11-29 11:14:51,717 | server.py:222 | fit_round 3: strategy sampled 3 clients (out of 10)\n",
            "DEBUG:flwr:fit_round 3: strategy sampled 3 clients (out of 10)\n"
          ]
        },
        {
          "output_type": "stream",
          "name": "stdout",
          "text": [
            "\u001b[2m\u001b[36m(DefaultActor pid=2911)\u001b[0m [Client 6] evaluate, config: {}\n",
            "\u001b[2m\u001b[36m(DefaultActor pid=2911)\u001b[0m [Client 5] fit, config: {}\n",
            "\u001b[2m\u001b[36m(DefaultActor pid=2911)\u001b[0m Epoch 1: train loss 0.09032739698886871, accuracy 0.12688888888888888\n",
            "\u001b[2m\u001b[36m(DefaultActor pid=2911)\u001b[0m [Client 1] fit, config: {}\n",
            "\u001b[2m\u001b[36m(DefaultActor pid=2911)\u001b[0m Epoch 1: train loss 0.09046030044555664, accuracy 0.12133333333333333\n",
            "\u001b[2m\u001b[36m(DefaultActor pid=2911)\u001b[0m [Client 0] fit, config: {}\n"
          ]
        },
        {
          "output_type": "stream",
          "name": "stderr",
          "text": [
            "DEBUG flwr 2023-11-29 11:15:01,476 | server.py:236 | fit_round 3 received 3 results and 0 failures\n",
            "DEBUG:flwr:fit_round 3 received 3 results and 0 failures\n",
            "DEBUG flwr 2023-11-29 11:15:01,496 | server.py:173 | evaluate_round 3: strategy sampled 3 clients (out of 10)\n",
            "DEBUG:flwr:evaluate_round 3: strategy sampled 3 clients (out of 10)\n"
          ]
        },
        {
          "output_type": "stream",
          "name": "stdout",
          "text": [
            "\u001b[2m\u001b[36m(DefaultActor pid=2911)\u001b[0m Epoch 1: train loss 0.09023310989141464, accuracy 0.126\n",
            "\u001b[2m\u001b[36m(DefaultActor pid=2911)\u001b[0m [Client 0] evaluate, config: {}\n",
            "\u001b[2m\u001b[36m(DefaultActor pid=2911)\u001b[0m [Client 7] evaluate, config: {}\n"
          ]
        },
        {
          "output_type": "stream",
          "name": "stderr",
          "text": [
            "DEBUG flwr 2023-11-29 11:15:05,728 | server.py:187 | evaluate_round 3 received 3 results and 0 failures\n",
            "DEBUG:flwr:evaluate_round 3 received 3 results and 0 failures\n",
            "INFO flwr 2023-11-29 11:15:05,735 | server.py:153 | FL finished in 47.827416782\n",
            "INFO:flwr:FL finished in 47.827416782\n",
            "INFO flwr 2023-11-29 11:15:05,739 | app.py:226 | app_fit: losses_distributed [(1, 3.7060653686523444), (2, 0.35297648175557456), (3, 0.07454340124130249)]\n",
            "INFO:flwr:app_fit: losses_distributed [(1, 3.7060653686523444), (2, 0.35297648175557456), (3, 0.07454340124130249)]\n",
            "INFO flwr 2023-11-29 11:15:05,745 | app.py:227 | app_fit: metrics_distributed_fit {}\n",
            "INFO:flwr:app_fit: metrics_distributed_fit {}\n",
            "INFO flwr 2023-11-29 11:15:05,747 | app.py:228 | app_fit: metrics_distributed {}\n",
            "INFO:flwr:app_fit: metrics_distributed {}\n",
            "INFO flwr 2023-11-29 11:15:05,750 | app.py:229 | app_fit: losses_centralized []\n",
            "INFO:flwr:app_fit: losses_centralized []\n",
            "INFO flwr 2023-11-29 11:15:05,752 | app.py:230 | app_fit: metrics_centralized {}\n",
            "INFO:flwr:app_fit: metrics_centralized {}\n"
          ]
        },
        {
          "output_type": "stream",
          "name": "stdout",
          "text": [
            "\u001b[2m\u001b[36m(DefaultActor pid=2911)\u001b[0m [Client 2] evaluate, config: {}\n"
          ]
        },
        {
          "output_type": "execute_result",
          "data": {
            "text/plain": [
              "History (loss, distributed):\n",
              "\tround 1: 3.7060653686523444\n",
              "\tround 2: 0.35297648175557456\n",
              "\tround 3: 0.07454340124130249"
            ]
          },
          "metadata": {},
          "execution_count": 8
        }
      ]
    },
    {
      "cell_type": "code",
      "source": [
        "# The `evaluate` function will be by Flower called after every round\n",
        "def evaluate(\n",
        "    server_round: int,\n",
        "    parameters: fl.common.NDArrays,\n",
        "    config: Dict[str, fl.common.Scalar],\n",
        ") -> Optional[Tuple[float, Dict[str, fl.common.Scalar]]]:\n",
        "    net = Net().to(DEVICE)\n",
        "    valloader = valloaders[0]\n",
        "    set_parameters(net, parameters)  # Update model with the latest parameters\n",
        "    loss, accuracy = test(net, valloader)\n",
        "    print(f\"Server-side evaluation loss {loss} / accuracy {accuracy}\")\n",
        "    return loss, {\"accuracy\": accuracy}"
      ],
      "metadata": {
        "id": "L0gGQoVdzinE"
      },
      "execution_count": 9,
      "outputs": []
    },
    {
      "cell_type": "code",
      "source": [
        "strategy = fl.server.strategy.FedAvg(\n",
        "    fraction_fit=0.3,\n",
        "    fraction_evaluate=0.3,\n",
        "    min_fit_clients=3,\n",
        "    min_evaluate_clients=3,\n",
        "    min_available_clients=NUM_CLIENTS,\n",
        "    initial_parameters=fl.common.ndarrays_to_parameters(get_parameters(Net())),\n",
        "    evaluate_fn=evaluate,  # Pass the evaluation function\n",
        ")\n",
        "\n",
        "fl.simulation.start_simulation(\n",
        "    client_fn=client_fn,\n",
        "    num_clients=NUM_CLIENTS,\n",
        "    config=fl.server.ServerConfig(num_rounds=3),  # Just three rounds\n",
        "    strategy=strategy,\n",
        "    client_resources=client_resources,\n",
        ")"
      ],
      "metadata": {
        "colab": {
          "base_uri": "https://localhost:8080/"
        },
        "id": "f9R1UY_lzlcj",
        "outputId": "f87f8cdd-4022-4085-bc85-44323b6319d0"
      },
      "execution_count": 10,
      "outputs": [
        {
          "output_type": "stream",
          "name": "stderr",
          "text": [
            "INFO flwr 2023-11-29 11:19:27,036 | app.py:178 | Starting Flower simulation, config: ServerConfig(num_rounds=3, round_timeout=None)\n",
            "INFO:flwr:Starting Flower simulation, config: ServerConfig(num_rounds=3, round_timeout=None)\n",
            "2023-11-29 11:19:31,662\tINFO worker.py:1621 -- Started a local Ray instance.\n",
            "INFO flwr 2023-11-29 11:19:35,063 | app.py:213 | Flower VCE: Ray initialized with resources: {'object_store_memory': 3927814963.0, 'memory': 7855629927.0, 'CPU': 2.0, 'GPU': 1.0, 'node:172.28.0.12': 1.0, 'node:__internal_head__': 1.0}\n",
            "INFO:flwr:Flower VCE: Ray initialized with resources: {'object_store_memory': 3927814963.0, 'memory': 7855629927.0, 'CPU': 2.0, 'GPU': 1.0, 'node:172.28.0.12': 1.0, 'node:__internal_head__': 1.0}\n",
            "INFO flwr 2023-11-29 11:19:35,068 | app.py:219 | Optimize your simulation with Flower VCE: https://flower.dev/docs/framework/how-to-run-simulations.html\n",
            "INFO:flwr:Optimize your simulation with Flower VCE: https://flower.dev/docs/framework/how-to-run-simulations.html\n",
            "INFO flwr 2023-11-29 11:19:35,077 | app.py:242 | Flower VCE: Resources for each Virtual Client: {'num_gpus': 1, 'num_cpus': 1}\n",
            "INFO:flwr:Flower VCE: Resources for each Virtual Client: {'num_gpus': 1, 'num_cpus': 1}\n",
            "INFO flwr 2023-11-29 11:19:35,112 | app.py:288 | Flower VCE: Creating VirtualClientEngineActorPool with 1 actors\n",
            "INFO:flwr:Flower VCE: Creating VirtualClientEngineActorPool with 1 actors\n",
            "INFO flwr 2023-11-29 11:19:35,115 | server.py:89 | Initializing global parameters\n",
            "INFO:flwr:Initializing global parameters\n",
            "INFO flwr 2023-11-29 11:19:35,118 | server.py:272 | Using initial parameters provided by strategy\n",
            "INFO:flwr:Using initial parameters provided by strategy\n",
            "INFO flwr 2023-11-29 11:19:35,120 | server.py:91 | Evaluating initial parameters\n",
            "INFO:flwr:Evaluating initial parameters\n",
            "INFO flwr 2023-11-29 11:19:35,840 | server.py:94 | initial parameters (loss, other metrics): 0.07372879934310914, {'accuracy': 0.084}\n",
            "INFO:flwr:initial parameters (loss, other metrics): 0.07372879934310914, {'accuracy': 0.084}\n",
            "INFO flwr 2023-11-29 11:19:35,844 | server.py:104 | FL starting\n",
            "INFO:flwr:FL starting\n",
            "DEBUG flwr 2023-11-29 11:19:35,849 | server.py:222 | fit_round 1: strategy sampled 3 clients (out of 10)\n",
            "DEBUG:flwr:fit_round 1: strategy sampled 3 clients (out of 10)\n"
          ]
        },
        {
          "output_type": "stream",
          "name": "stdout",
          "text": [
            "Server-side evaluation loss 0.07372879934310914 / accuracy 0.084\n"
          ]
        },
        {
          "output_type": "stream",
          "name": "stderr",
          "text": [
            "\u001b[2m\u001b[36m(pid=4413)\u001b[0m 2023-11-29 11:19:36.916168: E tensorflow/compiler/xla/stream_executor/cuda/cuda_dnn.cc:9342] Unable to register cuDNN factory: Attempting to register factory for plugin cuDNN when one has already been registered\n",
            "\u001b[2m\u001b[36m(pid=4413)\u001b[0m 2023-11-29 11:19:36.916247: E tensorflow/compiler/xla/stream_executor/cuda/cuda_fft.cc:609] Unable to register cuFFT factory: Attempting to register factory for plugin cuFFT when one has already been registered\n",
            "\u001b[2m\u001b[36m(pid=4413)\u001b[0m 2023-11-29 11:19:36.916282: E tensorflow/compiler/xla/stream_executor/cuda/cuda_blas.cc:1518] Unable to register cuBLAS factory: Attempting to register factory for plugin cuBLAS when one has already been registered\n",
            "\u001b[2m\u001b[36m(pid=4413)\u001b[0m 2023-11-29 11:19:38.516051: W tensorflow/compiler/tf2tensorrt/utils/py_utils.cc:38] TF-TRT Warning: Could not find TensorRT\n"
          ]
        },
        {
          "output_type": "stream",
          "name": "stdout",
          "text": [
            "\u001b[2m\u001b[36m(DefaultActor pid=4413)\u001b[0m [Client 6] fit, config: {}\n",
            "\u001b[2m\u001b[36m(DefaultActor pid=4413)\u001b[0m Epoch 1: train loss 0.06437573581933975, accuracy 0.23755555555555555\n",
            "\u001b[2m\u001b[36m(DefaultActor pid=4413)\u001b[0m [Client 8] fit, config: {}\n",
            "\u001b[2m\u001b[36m(DefaultActor pid=4413)\u001b[0m Epoch 1: train loss 0.06323998421430588, accuracy 0.24644444444444444\n",
            "\u001b[2m\u001b[36m(DefaultActor pid=4413)\u001b[0m [Client 7] fit, config: {}\n"
          ]
        },
        {
          "output_type": "stream",
          "name": "stderr",
          "text": [
            "DEBUG flwr 2023-11-29 11:19:51,125 | server.py:236 | fit_round 1 received 3 results and 0 failures\n",
            "DEBUG:flwr:fit_round 1 received 3 results and 0 failures\n",
            "WARNING flwr 2023-11-29 11:19:51,139 | fedavg.py:242 | No fit_metrics_aggregation_fn provided\n",
            "WARNING:flwr:No fit_metrics_aggregation_fn provided\n",
            "INFO flwr 2023-11-29 11:19:51,278 | server.py:125 | fit progress: (1, 0.060867159843444825, {'accuracy': 0.304}, 15.42918861999999)\n",
            "INFO:flwr:fit progress: (1, 0.060867159843444825, {'accuracy': 0.304}, 15.42918861999999)\n",
            "DEBUG flwr 2023-11-29 11:19:51,281 | server.py:173 | evaluate_round 1: strategy sampled 3 clients (out of 10)\n",
            "DEBUG:flwr:evaluate_round 1: strategy sampled 3 clients (out of 10)\n"
          ]
        },
        {
          "output_type": "stream",
          "name": "stdout",
          "text": [
            "\u001b[2m\u001b[36m(DefaultActor pid=4413)\u001b[0m Epoch 1: train loss 0.06373976916074753, accuracy 0.24955555555555556\n",
            "Server-side evaluation loss 0.060867159843444825 / accuracy 0.304\n",
            "\u001b[2m\u001b[36m(DefaultActor pid=4413)\u001b[0m [Client 5] evaluate, config: {}\n",
            "\u001b[2m\u001b[36m(DefaultActor pid=4413)\u001b[0m [Client 2] evaluate, config: {}\n"
          ]
        },
        {
          "output_type": "stream",
          "name": "stderr",
          "text": [
            "DEBUG flwr 2023-11-29 11:19:55,485 | server.py:187 | evaluate_round 1 received 3 results and 0 failures\n",
            "DEBUG:flwr:evaluate_round 1 received 3 results and 0 failures\n",
            "WARNING flwr 2023-11-29 11:19:55,488 | fedavg.py:273 | No evaluate_metrics_aggregation_fn provided\n",
            "WARNING:flwr:No evaluate_metrics_aggregation_fn provided\n",
            "DEBUG flwr 2023-11-29 11:19:55,489 | server.py:222 | fit_round 2: strategy sampled 3 clients (out of 10)\n",
            "DEBUG:flwr:fit_round 2: strategy sampled 3 clients (out of 10)\n"
          ]
        },
        {
          "output_type": "stream",
          "name": "stdout",
          "text": [
            "\u001b[2m\u001b[36m(DefaultActor pid=4413)\u001b[0m [Client 8] evaluate, config: {}\n",
            "\u001b[2m\u001b[36m(DefaultActor pid=4413)\u001b[0m [Client 3] fit, config: {}\n",
            "\u001b[2m\u001b[36m(DefaultActor pid=4413)\u001b[0m Epoch 1: train loss 0.055987391620874405, accuracy 0.3368888888888889\n",
            "\u001b[2m\u001b[36m(DefaultActor pid=4413)\u001b[0m [Client 5] fit, config: {}\n",
            "\u001b[2m\u001b[36m(DefaultActor pid=4413)\u001b[0m Epoch 1: train loss 0.05673452466726303, accuracy 0.3302222222222222\n",
            "\u001b[2m\u001b[36m(DefaultActor pid=4413)\u001b[0m [Client 9] fit, config: {}\n"
          ]
        },
        {
          "output_type": "stream",
          "name": "stderr",
          "text": [
            "DEBUG flwr 2023-11-29 11:20:05,733 | server.py:236 | fit_round 2 received 3 results and 0 failures\n",
            "DEBUG:flwr:fit_round 2 received 3 results and 0 failures\n",
            "INFO flwr 2023-11-29 11:20:05,871 | server.py:125 | fit progress: (2, 0.05448196887969971, {'accuracy': 0.36}, 30.023007494000012)\n",
            "INFO:flwr:fit progress: (2, 0.05448196887969971, {'accuracy': 0.36}, 30.023007494000012)\n",
            "DEBUG flwr 2023-11-29 11:20:05,878 | server.py:173 | evaluate_round 2: strategy sampled 3 clients (out of 10)\n",
            "DEBUG:flwr:evaluate_round 2: strategy sampled 3 clients (out of 10)\n"
          ]
        },
        {
          "output_type": "stream",
          "name": "stdout",
          "text": [
            "\u001b[2m\u001b[36m(DefaultActor pid=4413)\u001b[0m Epoch 1: train loss 0.05652666836977005, accuracy 0.34\n",
            "Server-side evaluation loss 0.05448196887969971 / accuracy 0.36\n",
            "\u001b[2m\u001b[36m(DefaultActor pid=4413)\u001b[0m [Client 5] evaluate, config: {}\n",
            "\u001b[2m\u001b[36m(DefaultActor pid=4413)\u001b[0m [Client 8] evaluate, config: {}\n"
          ]
        },
        {
          "output_type": "stream",
          "name": "stderr",
          "text": [
            "DEBUG flwr 2023-11-29 11:20:10,191 | server.py:187 | evaluate_round 2 received 3 results and 0 failures\n",
            "DEBUG:flwr:evaluate_round 2 received 3 results and 0 failures\n",
            "DEBUG flwr 2023-11-29 11:20:10,198 | server.py:222 | fit_round 3: strategy sampled 3 clients (out of 10)\n",
            "DEBUG:flwr:fit_round 3: strategy sampled 3 clients (out of 10)\n"
          ]
        },
        {
          "output_type": "stream",
          "name": "stdout",
          "text": [
            "\u001b[2m\u001b[36m(DefaultActor pid=4413)\u001b[0m [Client 0] evaluate, config: {}\n",
            "\u001b[2m\u001b[36m(DefaultActor pid=4413)\u001b[0m [Client 5] fit, config: {}\n",
            "\u001b[2m\u001b[36m(DefaultActor pid=4413)\u001b[0m Epoch 1: train loss 0.05280556529760361, accuracy 0.38066666666666665\n",
            "\u001b[2m\u001b[36m(DefaultActor pid=4413)\u001b[0m [Client 0] fit, config: {}\n",
            "\u001b[2m\u001b[36m(DefaultActor pid=4413)\u001b[0m Epoch 1: train loss 0.052143920212984085, accuracy 0.38622222222222224\n",
            "\u001b[2m\u001b[36m(DefaultActor pid=4413)\u001b[0m [Client 2] fit, config: {}\n"
          ]
        },
        {
          "output_type": "stream",
          "name": "stderr",
          "text": [
            "DEBUG flwr 2023-11-29 11:20:19,518 | server.py:236 | fit_round 3 received 3 results and 0 failures\n",
            "DEBUG:flwr:fit_round 3 received 3 results and 0 failures\n",
            "INFO flwr 2023-11-29 11:20:19,726 | server.py:125 | fit progress: (3, 0.05194331932067871, {'accuracy': 0.402}, 43.87732743599997)\n",
            "INFO:flwr:fit progress: (3, 0.05194331932067871, {'accuracy': 0.402}, 43.87732743599997)\n",
            "DEBUG flwr 2023-11-29 11:20:19,730 | server.py:173 | evaluate_round 3: strategy sampled 3 clients (out of 10)\n",
            "DEBUG:flwr:evaluate_round 3: strategy sampled 3 clients (out of 10)\n"
          ]
        },
        {
          "output_type": "stream",
          "name": "stdout",
          "text": [
            "\u001b[2m\u001b[36m(DefaultActor pid=4413)\u001b[0m Epoch 1: train loss 0.052734438329935074, accuracy 0.37933333333333336\n",
            "Server-side evaluation loss 0.05194331932067871 / accuracy 0.402\n",
            "\u001b[2m\u001b[36m(DefaultActor pid=4413)\u001b[0m [Client 3] evaluate, config: {}\n",
            "\u001b[2m\u001b[36m(DefaultActor pid=4413)\u001b[0m [Client 5] evaluate, config: {}\n"
          ]
        },
        {
          "output_type": "stream",
          "name": "stderr",
          "text": [
            "DEBUG flwr 2023-11-29 11:20:24,170 | server.py:187 | evaluate_round 3 received 3 results and 0 failures\n",
            "DEBUG:flwr:evaluate_round 3 received 3 results and 0 failures\n",
            "INFO flwr 2023-11-29 11:20:24,173 | server.py:153 | FL finished in 48.32419801899994\n",
            "INFO:flwr:FL finished in 48.32419801899994\n",
            "INFO flwr 2023-11-29 11:20:24,174 | app.py:226 | app_fit: losses_distributed [(1, 0.060401045640309646), (2, 0.052991231918334956), (3, 0.05016530259450277)]\n",
            "INFO:flwr:app_fit: losses_distributed [(1, 0.060401045640309646), (2, 0.052991231918334956), (3, 0.05016530259450277)]\n",
            "INFO flwr 2023-11-29 11:20:24,179 | app.py:227 | app_fit: metrics_distributed_fit {}\n",
            "INFO:flwr:app_fit: metrics_distributed_fit {}\n",
            "INFO flwr 2023-11-29 11:20:24,182 | app.py:228 | app_fit: metrics_distributed {}\n",
            "INFO:flwr:app_fit: metrics_distributed {}\n",
            "INFO flwr 2023-11-29 11:20:24,185 | app.py:229 | app_fit: losses_centralized [(0, 0.07372879934310914), (1, 0.060867159843444825), (2, 0.05448196887969971), (3, 0.05194331932067871)]\n",
            "INFO:flwr:app_fit: losses_centralized [(0, 0.07372879934310914), (1, 0.060867159843444825), (2, 0.05448196887969971), (3, 0.05194331932067871)]\n",
            "INFO flwr 2023-11-29 11:20:24,189 | app.py:230 | app_fit: metrics_centralized {'accuracy': [(0, 0.084), (1, 0.304), (2, 0.36), (3, 0.402)]}\n",
            "INFO:flwr:app_fit: metrics_centralized {'accuracy': [(0, 0.084), (1, 0.304), (2, 0.36), (3, 0.402)]}\n"
          ]
        },
        {
          "output_type": "stream",
          "name": "stdout",
          "text": [
            "\u001b[2m\u001b[36m(DefaultActor pid=4413)\u001b[0m [Client 4] evaluate, config: {}\n"
          ]
        },
        {
          "output_type": "execute_result",
          "data": {
            "text/plain": [
              "History (loss, distributed):\n",
              "\tround 1: 0.060401045640309646\n",
              "\tround 2: 0.052991231918334956\n",
              "\tround 3: 0.05016530259450277\n",
              "History (loss, centralized):\n",
              "\tround 0: 0.07372879934310914\n",
              "\tround 1: 0.060867159843444825\n",
              "\tround 2: 0.05448196887969971\n",
              "\tround 3: 0.05194331932067871\n",
              "History (metrics, centralized):\n",
              "{'accuracy': [(0, 0.084), (1, 0.304), (2, 0.36), (3, 0.402)]}"
            ]
          },
          "metadata": {},
          "execution_count": 10
        }
      ]
    },
    {
      "cell_type": "code",
      "source": [
        "class FlowerClient(fl.client.NumPyClient):\n",
        "    def __init__(self, cid, net, trainloader, valloader):\n",
        "        self.cid = cid\n",
        "        self.net = net\n",
        "        self.trainloader = trainloader\n",
        "        self.valloader = valloader\n",
        "\n",
        "    def get_parameters(self, config):\n",
        "        print(f\"[Client {self.cid}] get_parameters\")\n",
        "        return get_parameters(self.net)\n",
        "\n",
        "    def fit(self, parameters, config):\n",
        "        # Read values from config\n",
        "        server_round = config[\"server_round\"]\n",
        "        local_epochs = config[\"local_epochs\"]\n",
        "\n",
        "        # Use values provided by the config\n",
        "        print(f\"[Client {self.cid}, round {server_round}] fit, config: {config}\")\n",
        "        set_parameters(self.net, parameters)\n",
        "        train(self.net, self.trainloader, epochs=local_epochs)\n",
        "        return get_parameters(self.net), len(self.trainloader), {}\n",
        "\n",
        "    def evaluate(self, parameters, config):\n",
        "        print(f\"[Client {self.cid}] evaluate, config: {config}\")\n",
        "        set_parameters(self.net, parameters)\n",
        "        loss, accuracy = test(self.net, self.valloader)\n",
        "        return float(loss), len(self.valloader), {\"accuracy\": float(accuracy)}\n",
        "\n",
        "\n",
        "def client_fn(cid) -> FlowerClient:\n",
        "    net = Net().to(DEVICE)\n",
        "    trainloader = trainloaders[int(cid)]\n",
        "    valloader = valloaders[int(cid)]\n",
        "    return FlowerClient(cid, net, trainloader, valloader)"
      ],
      "metadata": {
        "id": "1rCI6qQN1v_t"
      },
      "execution_count": 11,
      "outputs": []
    },
    {
      "cell_type": "code",
      "source": [
        "def fit_config(server_round: int):\n",
        "    \"\"\"Return training configuration dict for each round.\n",
        "\n",
        "    Perform two rounds of training with one local epoch, increase to two local\n",
        "    epochs afterwards.\n",
        "    \"\"\"\n",
        "    config = {\n",
        "        \"server_round\": server_round,  # The current round of federated learning\n",
        "        \"local_epochs\": 1 if server_round < 2 else 2,  #\n",
        "    }\n",
        "    return config"
      ],
      "metadata": {
        "id": "-inXQraI1zKj"
      },
      "execution_count": 12,
      "outputs": []
    },
    {
      "cell_type": "code",
      "source": [
        "strategy = fl.server.strategy.FedAvg(\n",
        "    fraction_fit=0.3,\n",
        "    fraction_evaluate=0.3,\n",
        "    min_fit_clients=3,\n",
        "    min_evaluate_clients=3,\n",
        "    min_available_clients=NUM_CLIENTS,\n",
        "    initial_parameters=fl.common.ndarrays_to_parameters(get_parameters(Net())),\n",
        "    evaluate_fn=evaluate,\n",
        "    on_fit_config_fn=fit_config,  # Pass the fit_config function\n",
        ")\n",
        "\n",
        "fl.simulation.start_simulation(\n",
        "    client_fn=client_fn,\n",
        "    num_clients=NUM_CLIENTS,\n",
        "    config=fl.server.ServerConfig(num_rounds=3),  # Just three rounds\n",
        "    strategy=strategy,\n",
        "    client_resources=client_resources,\n",
        ")"
      ],
      "metadata": {
        "colab": {
          "base_uri": "https://localhost:8080/"
        },
        "id": "jVbjHmm112Ae",
        "outputId": "1ad237ec-bb1d-4218-e0f8-1c98904e37b2"
      },
      "execution_count": 13,
      "outputs": [
        {
          "output_type": "stream",
          "name": "stderr",
          "text": [
            "INFO flwr 2023-11-29 11:29:17,483 | app.py:178 | Starting Flower simulation, config: ServerConfig(num_rounds=3, round_timeout=None)\n",
            "INFO:flwr:Starting Flower simulation, config: ServerConfig(num_rounds=3, round_timeout=None)\n",
            "2023-11-29 11:29:21,823\tINFO worker.py:1621 -- Started a local Ray instance.\n",
            "INFO flwr 2023-11-29 11:29:23,984 | app.py:213 | Flower VCE: Ray initialized with resources: {'node:__internal_head__': 1.0, 'memory': 7852587419.0, 'node:172.28.0.12': 1.0, 'GPU': 1.0, 'CPU': 2.0, 'object_store_memory': 3926293708.0}\n",
            "INFO:flwr:Flower VCE: Ray initialized with resources: {'node:__internal_head__': 1.0, 'memory': 7852587419.0, 'node:172.28.0.12': 1.0, 'GPU': 1.0, 'CPU': 2.0, 'object_store_memory': 3926293708.0}\n",
            "INFO flwr 2023-11-29 11:29:23,990 | app.py:219 | Optimize your simulation with Flower VCE: https://flower.dev/docs/framework/how-to-run-simulations.html\n",
            "INFO:flwr:Optimize your simulation with Flower VCE: https://flower.dev/docs/framework/how-to-run-simulations.html\n",
            "INFO flwr 2023-11-29 11:29:23,997 | app.py:242 | Flower VCE: Resources for each Virtual Client: {'num_gpus': 1, 'num_cpus': 1}\n",
            "INFO:flwr:Flower VCE: Resources for each Virtual Client: {'num_gpus': 1, 'num_cpus': 1}\n",
            "INFO flwr 2023-11-29 11:29:24,029 | app.py:288 | Flower VCE: Creating VirtualClientEngineActorPool with 1 actors\n",
            "INFO:flwr:Flower VCE: Creating VirtualClientEngineActorPool with 1 actors\n",
            "INFO flwr 2023-11-29 11:29:24,035 | server.py:89 | Initializing global parameters\n",
            "INFO:flwr:Initializing global parameters\n",
            "INFO flwr 2023-11-29 11:29:24,044 | server.py:272 | Using initial parameters provided by strategy\n",
            "INFO:flwr:Using initial parameters provided by strategy\n",
            "INFO flwr 2023-11-29 11:29:24,051 | server.py:91 | Evaluating initial parameters\n",
            "INFO:flwr:Evaluating initial parameters\n",
            "INFO flwr 2023-11-29 11:29:24,353 | server.py:94 | initial parameters (loss, other metrics): 0.07364963865280151, {'accuracy': 0.112}\n",
            "INFO:flwr:initial parameters (loss, other metrics): 0.07364963865280151, {'accuracy': 0.112}\n",
            "INFO flwr 2023-11-29 11:29:24,362 | server.py:104 | FL starting\n",
            "INFO:flwr:FL starting\n",
            "DEBUG flwr 2023-11-29 11:29:24,371 | server.py:222 | fit_round 1: strategy sampled 3 clients (out of 10)\n",
            "DEBUG:flwr:fit_round 1: strategy sampled 3 clients (out of 10)\n"
          ]
        },
        {
          "output_type": "stream",
          "name": "stdout",
          "text": [
            "Server-side evaluation loss 0.07364963865280151 / accuracy 0.112\n"
          ]
        },
        {
          "output_type": "stream",
          "name": "stderr",
          "text": [
            "\u001b[2m\u001b[36m(pid=7064)\u001b[0m 2023-11-29 11:29:25.753463: E tensorflow/compiler/xla/stream_executor/cuda/cuda_dnn.cc:9342] Unable to register cuDNN factory: Attempting to register factory for plugin cuDNN when one has already been registered\n",
            "\u001b[2m\u001b[36m(pid=7064)\u001b[0m 2023-11-29 11:29:25.753553: E tensorflow/compiler/xla/stream_executor/cuda/cuda_fft.cc:609] Unable to register cuFFT factory: Attempting to register factory for plugin cuFFT when one has already been registered\n",
            "\u001b[2m\u001b[36m(pid=7064)\u001b[0m 2023-11-29 11:29:25.753589: E tensorflow/compiler/xla/stream_executor/cuda/cuda_blas.cc:1518] Unable to register cuBLAS factory: Attempting to register factory for plugin cuBLAS when one has already been registered\n",
            "\u001b[2m\u001b[36m(pid=7064)\u001b[0m 2023-11-29 11:29:27.918501: W tensorflow/compiler/tf2tensorrt/utils/py_utils.cc:38] TF-TRT Warning: Could not find TensorRT\n"
          ]
        },
        {
          "output_type": "stream",
          "name": "stdout",
          "text": [
            "\u001b[2m\u001b[36m(DefaultActor pid=7064)\u001b[0m [Client 6, round 1] fit, config: {'server_round': 1, 'local_epochs': 1}\n",
            "\u001b[2m\u001b[36m(DefaultActor pid=7064)\u001b[0m Epoch 1: train loss 0.06581372022628784, accuracy 0.21688888888888888\n",
            "\u001b[2m\u001b[36m(DefaultActor pid=7064)\u001b[0m [Client 3, round 1] fit, config: {'server_round': 1, 'local_epochs': 1}\n",
            "\u001b[2m\u001b[36m(DefaultActor pid=7064)\u001b[0m Epoch 1: train loss 0.06598072499036789, accuracy 0.21733333333333332\n",
            "\u001b[2m\u001b[36m(DefaultActor pid=7064)\u001b[0m [Client 8, round 1] fit, config: {'server_round': 1, 'local_epochs': 1}\n"
          ]
        },
        {
          "output_type": "stream",
          "name": "stderr",
          "text": [
            "DEBUG flwr 2023-11-29 11:29:39,770 | server.py:236 | fit_round 1 received 3 results and 0 failures\n",
            "DEBUG:flwr:fit_round 1 received 3 results and 0 failures\n",
            "WARNING flwr 2023-11-29 11:29:39,784 | fedavg.py:242 | No fit_metrics_aggregation_fn provided\n",
            "WARNING:flwr:No fit_metrics_aggregation_fn provided\n",
            "INFO flwr 2023-11-29 11:29:39,920 | server.py:125 | fit progress: (1, 0.06318190956115723, {'accuracy': 0.302}, 15.549144093999985)\n",
            "INFO:flwr:fit progress: (1, 0.06318190956115723, {'accuracy': 0.302}, 15.549144093999985)\n",
            "DEBUG flwr 2023-11-29 11:29:39,925 | server.py:173 | evaluate_round 1: strategy sampled 3 clients (out of 10)\n",
            "DEBUG:flwr:evaluate_round 1: strategy sampled 3 clients (out of 10)\n"
          ]
        },
        {
          "output_type": "stream",
          "name": "stdout",
          "text": [
            "\u001b[2m\u001b[36m(DefaultActor pid=7064)\u001b[0m Epoch 1: train loss 0.06363730877637863, accuracy 0.25622222222222224\n",
            "Server-side evaluation loss 0.06318190956115723 / accuracy 0.302\n",
            "\u001b[2m\u001b[36m(DefaultActor pid=7064)\u001b[0m [Client 2] evaluate, config: {}\n",
            "\u001b[2m\u001b[36m(DefaultActor pid=7064)\u001b[0m [Client 7] evaluate, config: {}\n"
          ]
        },
        {
          "output_type": "stream",
          "name": "stderr",
          "text": [
            "DEBUG flwr 2023-11-29 11:29:46,164 | server.py:187 | evaluate_round 1 received 3 results and 0 failures\n",
            "DEBUG:flwr:evaluate_round 1 received 3 results and 0 failures\n",
            "WARNING flwr 2023-11-29 11:29:46,167 | fedavg.py:273 | No evaluate_metrics_aggregation_fn provided\n",
            "WARNING:flwr:No evaluate_metrics_aggregation_fn provided\n",
            "DEBUG flwr 2023-11-29 11:29:46,171 | server.py:222 | fit_round 2: strategy sampled 3 clients (out of 10)\n",
            "DEBUG:flwr:fit_round 2: strategy sampled 3 clients (out of 10)\n"
          ]
        },
        {
          "output_type": "stream",
          "name": "stdout",
          "text": [
            "\u001b[2m\u001b[36m(DefaultActor pid=7064)\u001b[0m [Client 3] evaluate, config: {}\n",
            "\u001b[2m\u001b[36m(DefaultActor pid=7064)\u001b[0m [Client 4, round 2] fit, config: {'server_round': 2, 'local_epochs': 2}\n",
            "\u001b[2m\u001b[36m(DefaultActor pid=7064)\u001b[0m Epoch 1: train loss 0.056422777473926544, accuracy 0.3328888888888889\n",
            "\u001b[2m\u001b[36m(DefaultActor pid=7064)\u001b[0m Epoch 2: train loss 0.05270596966147423, accuracy 0.37755555555555553\n",
            "\u001b[2m\u001b[36m(DefaultActor pid=7064)\u001b[0m [Client 1, round 2] fit, config: {'server_round': 2, 'local_epochs': 2}\n",
            "\u001b[2m\u001b[36m(DefaultActor pid=7064)\u001b[0m Epoch 1: train loss 0.0558774471282959, accuracy 0.35088888888888886\n",
            "\u001b[2m\u001b[36m(DefaultActor pid=7064)\u001b[0m Epoch 2: train loss 0.05197572708129883, accuracy 0.38955555555555554\n",
            "\u001b[2m\u001b[36m(DefaultActor pid=7064)\u001b[0m [Client 3, round 2] fit, config: {'server_round': 2, 'local_epochs': 2}\n",
            "\u001b[2m\u001b[36m(DefaultActor pid=7064)\u001b[0m Epoch 1: train loss 0.056934937834739685, accuracy 0.3228888888888889\n"
          ]
        },
        {
          "output_type": "stream",
          "name": "stderr",
          "text": [
            "DEBUG flwr 2023-11-29 11:29:58,843 | server.py:236 | fit_round 2 received 3 results and 0 failures\n",
            "DEBUG:flwr:fit_round 2 received 3 results and 0 failures\n",
            "INFO flwr 2023-11-29 11:29:59,053 | server.py:125 | fit progress: (2, 0.05278866124153137, {'accuracy': 0.39}, 34.68193413699987)\n",
            "INFO:flwr:fit progress: (2, 0.05278866124153137, {'accuracy': 0.39}, 34.68193413699987)\n",
            "DEBUG flwr 2023-11-29 11:29:59,060 | server.py:173 | evaluate_round 2: strategy sampled 3 clients (out of 10)\n",
            "DEBUG:flwr:evaluate_round 2: strategy sampled 3 clients (out of 10)\n"
          ]
        },
        {
          "output_type": "stream",
          "name": "stdout",
          "text": [
            "\u001b[2m\u001b[36m(DefaultActor pid=7064)\u001b[0m Epoch 2: train loss 0.05272668972611427, accuracy 0.37133333333333335\n",
            "Server-side evaluation loss 0.05278866124153137 / accuracy 0.39\n",
            "\u001b[2m\u001b[36m(DefaultActor pid=7064)\u001b[0m [Client 8] evaluate, config: {}\n",
            "\u001b[2m\u001b[36m(DefaultActor pid=7064)\u001b[0m [Client 9] evaluate, config: {}\n"
          ]
        },
        {
          "output_type": "stream",
          "name": "stderr",
          "text": [
            "DEBUG flwr 2023-11-29 11:30:04,184 | server.py:187 | evaluate_round 2 received 3 results and 0 failures\n",
            "DEBUG:flwr:evaluate_round 2 received 3 results and 0 failures\n",
            "DEBUG flwr 2023-11-29 11:30:04,189 | server.py:222 | fit_round 3: strategy sampled 3 clients (out of 10)\n",
            "DEBUG:flwr:fit_round 3: strategy sampled 3 clients (out of 10)\n"
          ]
        },
        {
          "output_type": "stream",
          "name": "stdout",
          "text": [
            "\u001b[2m\u001b[36m(DefaultActor pid=7064)\u001b[0m [Client 4] evaluate, config: {}\n",
            "\u001b[2m\u001b[36m(DefaultActor pid=7064)\u001b[0m [Client 0, round 3] fit, config: {'server_round': 3, 'local_epochs': 2}\n",
            "\u001b[2m\u001b[36m(DefaultActor pid=7064)\u001b[0m Epoch 1: train loss 0.05116648226976395, accuracy 0.4073333333333333\n",
            "\u001b[2m\u001b[36m(DefaultActor pid=7064)\u001b[0m Epoch 2: train loss 0.04847805202007294, accuracy 0.43444444444444447\n",
            "\u001b[2m\u001b[36m(DefaultActor pid=7064)\u001b[0m [Client 1, round 3] fit, config: {'server_round': 3, 'local_epochs': 2}\n",
            "\u001b[2m\u001b[36m(DefaultActor pid=7064)\u001b[0m Epoch 1: train loss 0.05010966956615448, accuracy 0.4246666666666667\n",
            "\u001b[2m\u001b[36m(DefaultActor pid=7064)\u001b[0m Epoch 2: train loss 0.04778975248336792, accuracy 0.45\n",
            "\u001b[2m\u001b[36m(DefaultActor pid=7064)\u001b[0m [Client 4, round 3] fit, config: {'server_round': 3, 'local_epochs': 2}\n",
            "\u001b[2m\u001b[36m(DefaultActor pid=7064)\u001b[0m Epoch 1: train loss 0.05071413516998291, accuracy 0.4026666666666667\n"
          ]
        },
        {
          "output_type": "stream",
          "name": "stderr",
          "text": [
            "DEBUG flwr 2023-11-29 11:30:17,733 | server.py:236 | fit_round 3 received 3 results and 0 failures\n",
            "DEBUG:flwr:fit_round 3 received 3 results and 0 failures\n",
            "INFO flwr 2023-11-29 11:30:17,882 | server.py:125 | fit progress: (3, 0.04914418864250183, {'accuracy': 0.434}, 53.51136350699994)\n",
            "INFO:flwr:fit progress: (3, 0.04914418864250183, {'accuracy': 0.434}, 53.51136350699994)\n",
            "DEBUG flwr 2023-11-29 11:30:17,887 | server.py:173 | evaluate_round 3: strategy sampled 3 clients (out of 10)\n",
            "DEBUG:flwr:evaluate_round 3: strategy sampled 3 clients (out of 10)\n"
          ]
        },
        {
          "output_type": "stream",
          "name": "stdout",
          "text": [
            "\u001b[2m\u001b[36m(DefaultActor pid=7064)\u001b[0m Epoch 2: train loss 0.04782240092754364, accuracy 0.4431111111111111\n",
            "Server-side evaluation loss 0.04914418864250183 / accuracy 0.434\n",
            "\u001b[2m\u001b[36m(DefaultActor pid=7064)\u001b[0m [Client 3] evaluate, config: {}\n",
            "\u001b[2m\u001b[36m(DefaultActor pid=7064)\u001b[0m [Client 6] evaluate, config: {}\n"
          ]
        },
        {
          "output_type": "stream",
          "name": "stderr",
          "text": [
            "DEBUG flwr 2023-11-29 11:30:22,085 | server.py:187 | evaluate_round 3 received 3 results and 0 failures\n",
            "DEBUG:flwr:evaluate_round 3 received 3 results and 0 failures\n",
            "INFO flwr 2023-11-29 11:30:22,090 | server.py:153 | FL finished in 57.719113147999906\n",
            "INFO:flwr:FL finished in 57.719113147999906\n",
            "INFO flwr 2023-11-29 11:30:22,096 | app.py:226 | app_fit: losses_distributed [(1, 0.06300141445795694), (2, 0.052101890484491986), (3, 0.049056919654210406)]\n",
            "INFO:flwr:app_fit: losses_distributed [(1, 0.06300141445795694), (2, 0.052101890484491986), (3, 0.049056919654210406)]\n",
            "INFO flwr 2023-11-29 11:30:22,101 | app.py:227 | app_fit: metrics_distributed_fit {}\n",
            "INFO:flwr:app_fit: metrics_distributed_fit {}\n",
            "INFO flwr 2023-11-29 11:30:22,109 | app.py:228 | app_fit: metrics_distributed {}\n",
            "INFO:flwr:app_fit: metrics_distributed {}\n",
            "INFO flwr 2023-11-29 11:30:22,114 | app.py:229 | app_fit: losses_centralized [(0, 0.07364963865280151), (1, 0.06318190956115723), (2, 0.05278866124153137), (3, 0.04914418864250183)]\n",
            "INFO:flwr:app_fit: losses_centralized [(0, 0.07364963865280151), (1, 0.06318190956115723), (2, 0.05278866124153137), (3, 0.04914418864250183)]\n",
            "INFO flwr 2023-11-29 11:30:22,117 | app.py:230 | app_fit: metrics_centralized {'accuracy': [(0, 0.112), (1, 0.302), (2, 0.39), (3, 0.434)]}\n",
            "INFO:flwr:app_fit: metrics_centralized {'accuracy': [(0, 0.112), (1, 0.302), (2, 0.39), (3, 0.434)]}\n"
          ]
        },
        {
          "output_type": "stream",
          "name": "stdout",
          "text": [
            "\u001b[2m\u001b[36m(DefaultActor pid=7064)\u001b[0m [Client 8] evaluate, config: {}\n"
          ]
        },
        {
          "output_type": "execute_result",
          "data": {
            "text/plain": [
              "History (loss, distributed):\n",
              "\tround 1: 0.06300141445795694\n",
              "\tround 2: 0.052101890484491986\n",
              "\tround 3: 0.049056919654210406\n",
              "History (loss, centralized):\n",
              "\tround 0: 0.07364963865280151\n",
              "\tround 1: 0.06318190956115723\n",
              "\tround 2: 0.05278866124153137\n",
              "\tround 3: 0.04914418864250183\n",
              "History (metrics, centralized):\n",
              "{'accuracy': [(0, 0.112), (1, 0.302), (2, 0.39), (3, 0.434)]}"
            ]
          },
          "metadata": {},
          "execution_count": 13
        }
      ]
    },
    {
      "cell_type": "code",
      "source": [
        "NUM_CLIENTS = 1000\n",
        "\n",
        "trainloaders, valloaders, testloader = load_datasets(NUM_CLIENTS)"
      ],
      "metadata": {
        "colab": {
          "base_uri": "https://localhost:8080/"
        },
        "id": "doOABayu21k8",
        "outputId": "35400222-29fa-45ef-f46d-b386754fd862"
      },
      "execution_count": 14,
      "outputs": [
        {
          "output_type": "stream",
          "name": "stdout",
          "text": [
            "Files already downloaded and verified\n",
            "Files already downloaded and verified\n"
          ]
        }
      ]
    },
    {
      "cell_type": "code",
      "source": [
        "def fit_config(server_round: int):\n",
        "    config = {\n",
        "        \"server_round\": server_round,\n",
        "        \"local_epochs\": 3,\n",
        "    }\n",
        "    return config\n",
        "\n",
        "\n",
        "strategy = fl.server.strategy.FedAvg(\n",
        "    fraction_fit=0.025,  # Train on 25 clients (each round)\n",
        "    fraction_evaluate=0.05,  # Evaluate on 50 clients (each round)\n",
        "    min_fit_clients=20,\n",
        "    min_evaluate_clients=40,\n",
        "    min_available_clients=NUM_CLIENTS,\n",
        "    initial_parameters=fl.common.ndarrays_to_parameters(get_parameters(Net())),\n",
        "    on_fit_config_fn=fit_config,\n",
        ")\n",
        "\n",
        "fl.simulation.start_simulation(\n",
        "    client_fn=client_fn,\n",
        "    num_clients=NUM_CLIENTS,\n",
        "    config=fl.server.ServerConfig(num_rounds=3),  # Just three rounds\n",
        "    strategy=strategy,\n",
        "    client_resources=client_resources,\n",
        ")"
      ],
      "metadata": {
        "colab": {
          "base_uri": "https://localhost:8080/"
        },
        "id": "_7kyWsIR23ZG",
        "outputId": "b24a7b6e-dabc-41ad-e4a2-c9310605b09d"
      },
      "execution_count": 15,
      "outputs": [
        {
          "output_type": "stream",
          "name": "stderr",
          "text": [
            "INFO flwr 2023-11-29 11:34:04,685 | app.py:178 | Starting Flower simulation, config: ServerConfig(num_rounds=3, round_timeout=None)\n",
            "INFO:flwr:Starting Flower simulation, config: ServerConfig(num_rounds=3, round_timeout=None)\n",
            "2023-11-29 11:34:08,991\tINFO worker.py:1621 -- Started a local Ray instance.\n",
            "INFO flwr 2023-11-29 11:34:12,479 | app.py:213 | Flower VCE: Ray initialized with resources: {'node:172.28.0.12': 1.0, 'GPU': 1.0, 'node:__internal_head__': 1.0, 'object_store_memory': 3925042790.0, 'memory': 7850085582.0, 'CPU': 2.0}\n",
            "INFO:flwr:Flower VCE: Ray initialized with resources: {'node:172.28.0.12': 1.0, 'GPU': 1.0, 'node:__internal_head__': 1.0, 'object_store_memory': 3925042790.0, 'memory': 7850085582.0, 'CPU': 2.0}\n",
            "INFO flwr 2023-11-29 11:34:12,487 | app.py:219 | Optimize your simulation with Flower VCE: https://flower.dev/docs/framework/how-to-run-simulations.html\n",
            "INFO:flwr:Optimize your simulation with Flower VCE: https://flower.dev/docs/framework/how-to-run-simulations.html\n",
            "INFO flwr 2023-11-29 11:34:12,491 | app.py:242 | Flower VCE: Resources for each Virtual Client: {'num_gpus': 1, 'num_cpus': 1}\n",
            "INFO:flwr:Flower VCE: Resources for each Virtual Client: {'num_gpus': 1, 'num_cpus': 1}\n",
            "INFO flwr 2023-11-29 11:34:12,542 | app.py:288 | Flower VCE: Creating VirtualClientEngineActorPool with 1 actors\n",
            "INFO:flwr:Flower VCE: Creating VirtualClientEngineActorPool with 1 actors\n",
            "INFO flwr 2023-11-29 11:34:12,552 | server.py:89 | Initializing global parameters\n",
            "INFO:flwr:Initializing global parameters\n",
            "INFO flwr 2023-11-29 11:34:12,562 | server.py:272 | Using initial parameters provided by strategy\n",
            "INFO:flwr:Using initial parameters provided by strategy\n",
            "INFO flwr 2023-11-29 11:34:12,573 | server.py:91 | Evaluating initial parameters\n",
            "INFO:flwr:Evaluating initial parameters\n",
            "INFO flwr 2023-11-29 11:34:12,580 | server.py:104 | FL starting\n",
            "INFO:flwr:FL starting\n",
            "DEBUG flwr 2023-11-29 11:34:12,586 | server.py:222 | fit_round 1: strategy sampled 25 clients (out of 1000)\n",
            "DEBUG:flwr:fit_round 1: strategy sampled 25 clients (out of 1000)\n",
            "\u001b[2m\u001b[36m(pid=8468)\u001b[0m 2023-11-29 11:34:14.926707: E tensorflow/compiler/xla/stream_executor/cuda/cuda_dnn.cc:9342] Unable to register cuDNN factory: Attempting to register factory for plugin cuDNN when one has already been registered\n",
            "\u001b[2m\u001b[36m(pid=8468)\u001b[0m 2023-11-29 11:34:14.926774: E tensorflow/compiler/xla/stream_executor/cuda/cuda_fft.cc:609] Unable to register cuFFT factory: Attempting to register factory for plugin cuFFT when one has already been registered\n",
            "\u001b[2m\u001b[36m(pid=8468)\u001b[0m 2023-11-29 11:34:14.926806: E tensorflow/compiler/xla/stream_executor/cuda/cuda_blas.cc:1518] Unable to register cuBLAS factory: Attempting to register factory for plugin cuBLAS when one has already been registered\n",
            "\u001b[2m\u001b[36m(pid=8468)\u001b[0m 2023-11-29 11:34:16.185395: W tensorflow/compiler/tf2tensorrt/utils/py_utils.cc:38] TF-TRT Warning: Could not find TensorRT\n"
          ]
        },
        {
          "output_type": "stream",
          "name": "stdout",
          "text": [
            "\u001b[2m\u001b[36m(DefaultActor pid=8468)\u001b[0m [Client 551, round 1] fit, config: {'server_round': 1, 'local_epochs': 3}\n",
            "\u001b[2m\u001b[36m(DefaultActor pid=8468)\u001b[0m Epoch 1: train loss 0.10265698283910751, accuracy 0.1111111111111111\n",
            "\u001b[2m\u001b[36m(DefaultActor pid=8468)\u001b[0m Epoch 2: train loss 0.10207810252904892, accuracy 0.13333333333333333\n",
            "\u001b[2m\u001b[36m(DefaultActor pid=8468)\u001b[0m Epoch 3: train loss 0.1010790765285492, accuracy 0.15555555555555556\n",
            "\u001b[2m\u001b[36m(DefaultActor pid=8468)\u001b[0m [Client 815, round 1] fit, config: {'server_round': 1, 'local_epochs': 3}\n",
            "\u001b[2m\u001b[36m(DefaultActor pid=8468)\u001b[0m Epoch 1: train loss 0.10238944739103317, accuracy 0.1111111111111111\n",
            "\u001b[2m\u001b[36m(DefaultActor pid=8468)\u001b[0m Epoch 2: train loss 0.10155917704105377, accuracy 0.1111111111111111\n",
            "\u001b[2m\u001b[36m(DefaultActor pid=8468)\u001b[0m Epoch 3: train loss 0.10058996826410294, accuracy 0.1111111111111111\n",
            "\u001b[2m\u001b[36m(DefaultActor pid=8468)\u001b[0m [Client 956, round 1] fit, config: {'server_round': 1, 'local_epochs': 3}\n",
            "\u001b[2m\u001b[36m(DefaultActor pid=8468)\u001b[0m Epoch 1: train loss 0.10236511379480362, accuracy 0.1111111111111111\n",
            "\u001b[2m\u001b[36m(DefaultActor pid=8468)\u001b[0m Epoch 2: train loss 0.1019030287861824, accuracy 0.1111111111111111\n",
            "\u001b[2m\u001b[36m(DefaultActor pid=8468)\u001b[0m Epoch 3: train loss 0.1013871431350708, accuracy 0.1111111111111111\n",
            "\u001b[2m\u001b[36m(DefaultActor pid=8468)\u001b[0m [Client 835, round 1] fit, config: {'server_round': 1, 'local_epochs': 3}\n",
            "\u001b[2m\u001b[36m(DefaultActor pid=8468)\u001b[0m Epoch 1: train loss 0.10230693966150284, accuracy 0.1111111111111111\n",
            "\u001b[2m\u001b[36m(DefaultActor pid=8468)\u001b[0m Epoch 2: train loss 0.1009124368429184, accuracy 0.1111111111111111\n",
            "\u001b[2m\u001b[36m(DefaultActor pid=8468)\u001b[0m Epoch 3: train loss 0.09949585050344467, accuracy 0.28888888888888886\n",
            "\u001b[2m\u001b[36m(DefaultActor pid=8468)\u001b[0m [Client 574, round 1] fit, config: {'server_round': 1, 'local_epochs': 3}\n",
            "\u001b[2m\u001b[36m(DefaultActor pid=8468)\u001b[0m Epoch 1: train loss 0.10234551876783371, accuracy 0.044444444444444446\n",
            "\u001b[2m\u001b[36m(DefaultActor pid=8468)\u001b[0m Epoch 2: train loss 0.10153128206729889, accuracy 0.08888888888888889\n",
            "\u001b[2m\u001b[36m(DefaultActor pid=8468)\u001b[0m Epoch 3: train loss 0.1003720611333847, accuracy 0.2\n",
            "\u001b[2m\u001b[36m(DefaultActor pid=8468)\u001b[0m [Client 786, round 1] fit, config: {'server_round': 1, 'local_epochs': 3}\n",
            "\u001b[2m\u001b[36m(DefaultActor pid=8468)\u001b[0m Epoch 1: train loss 0.10226473212242126, accuracy 0.06666666666666667\n",
            "\u001b[2m\u001b[36m(DefaultActor pid=8468)\u001b[0m Epoch 2: train loss 0.10112224519252777, accuracy 0.15555555555555556\n",
            "\u001b[2m\u001b[36m(DefaultActor pid=8468)\u001b[0m Epoch 3: train loss 0.10046705603599548, accuracy 0.15555555555555556\n",
            "\u001b[2m\u001b[36m(DefaultActor pid=8468)\u001b[0m [Client 793, round 1] fit, config: {'server_round': 1, 'local_epochs': 3}\n",
            "\u001b[2m\u001b[36m(DefaultActor pid=8468)\u001b[0m Epoch 1: train loss 0.10276205837726593, accuracy 0.08888888888888889\n",
            "\u001b[2m\u001b[36m(DefaultActor pid=8468)\u001b[0m Epoch 2: train loss 0.10162214189767838, accuracy 0.08888888888888889\n",
            "\u001b[2m\u001b[36m(DefaultActor pid=8468)\u001b[0m Epoch 3: train loss 0.10094857960939407, accuracy 0.08888888888888889\n",
            "\u001b[2m\u001b[36m(DefaultActor pid=8468)\u001b[0m [Client 479, round 1] fit, config: {'server_round': 1, 'local_epochs': 3}\n",
            "\u001b[2m\u001b[36m(DefaultActor pid=8468)\u001b[0m Epoch 1: train loss 0.102741539478302, accuracy 0.13333333333333333\n",
            "\u001b[2m\u001b[36m(DefaultActor pid=8468)\u001b[0m Epoch 2: train loss 0.10168047994375229, accuracy 0.13333333333333333\n",
            "\u001b[2m\u001b[36m(DefaultActor pid=8468)\u001b[0m Epoch 3: train loss 0.10032149404287338, accuracy 0.13333333333333333\n",
            "\u001b[2m\u001b[36m(DefaultActor pid=8468)\u001b[0m [Client 854, round 1] fit, config: {'server_round': 1, 'local_epochs': 3}\n",
            "\u001b[2m\u001b[36m(DefaultActor pid=8468)\u001b[0m Epoch 1: train loss 0.10260490328073502, accuracy 0.08888888888888889\n",
            "\u001b[2m\u001b[36m(DefaultActor pid=8468)\u001b[0m Epoch 2: train loss 0.1022426187992096, accuracy 0.08888888888888889\n",
            "\u001b[2m\u001b[36m(DefaultActor pid=8468)\u001b[0m Epoch 3: train loss 0.10121048986911774, accuracy 0.17777777777777778\n",
            "\u001b[2m\u001b[36m(DefaultActor pid=8468)\u001b[0m [Client 293, round 1] fit, config: {'server_round': 1, 'local_epochs': 3}\n",
            "\u001b[2m\u001b[36m(DefaultActor pid=8468)\u001b[0m Epoch 1: train loss 0.10204792022705078, accuracy 0.2\n",
            "\u001b[2m\u001b[36m(DefaultActor pid=8468)\u001b[0m Epoch 2: train loss 0.10080575197935104, accuracy 0.2\n",
            "\u001b[2m\u001b[36m(DefaultActor pid=8468)\u001b[0m Epoch 3: train loss 0.09958934038877487, accuracy 0.2\n",
            "\u001b[2m\u001b[36m(DefaultActor pid=8468)\u001b[0m [Client 767, round 1] fit, config: {'server_round': 1, 'local_epochs': 3}\n",
            "\u001b[2m\u001b[36m(DefaultActor pid=8468)\u001b[0m Epoch 1: train loss 0.1018829271197319, accuracy 0.13333333333333333\n",
            "\u001b[2m\u001b[36m(DefaultActor pid=8468)\u001b[0m Epoch 2: train loss 0.10127528011798859, accuracy 0.13333333333333333\n",
            "\u001b[2m\u001b[36m(DefaultActor pid=8468)\u001b[0m Epoch 3: train loss 0.09948588907718658, accuracy 0.13333333333333333\n",
            "\u001b[2m\u001b[36m(DefaultActor pid=8468)\u001b[0m [Client 389, round 1] fit, config: {'server_round': 1, 'local_epochs': 3}\n",
            "\u001b[2m\u001b[36m(DefaultActor pid=8468)\u001b[0m Epoch 1: train loss 0.10204126685857773, accuracy 0.1111111111111111\n",
            "\u001b[2m\u001b[36m(DefaultActor pid=8468)\u001b[0m Epoch 2: train loss 0.10116478055715561, accuracy 0.17777777777777778\n",
            "\u001b[2m\u001b[36m(DefaultActor pid=8468)\u001b[0m Epoch 3: train loss 0.09999249875545502, accuracy 0.2222222222222222\n",
            "\u001b[2m\u001b[36m(DefaultActor pid=8468)\u001b[0m [Client 818, round 1] fit, config: {'server_round': 1, 'local_epochs': 3}\n",
            "\u001b[2m\u001b[36m(DefaultActor pid=8468)\u001b[0m Epoch 1: train loss 0.10194272547960281, accuracy 0.1111111111111111\n",
            "\u001b[2m\u001b[36m(DefaultActor pid=8468)\u001b[0m Epoch 2: train loss 0.1011277511715889, accuracy 0.17777777777777778\n",
            "\u001b[2m\u001b[36m(DefaultActor pid=8468)\u001b[0m Epoch 3: train loss 0.09920404106378555, accuracy 0.15555555555555556\n",
            "\u001b[2m\u001b[36m(DefaultActor pid=8468)\u001b[0m [Client 169, round 1] fit, config: {'server_round': 1, 'local_epochs': 3}\n",
            "\u001b[2m\u001b[36m(DefaultActor pid=8468)\u001b[0m Epoch 1: train loss 0.10294065624475479, accuracy 0.08888888888888889\n",
            "\u001b[2m\u001b[36m(DefaultActor pid=8468)\u001b[0m Epoch 2: train loss 0.10152167826890945, accuracy 0.08888888888888889\n",
            "\u001b[2m\u001b[36m(DefaultActor pid=8468)\u001b[0m Epoch 3: train loss 0.10073470324277878, accuracy 0.1111111111111111\n",
            "\u001b[2m\u001b[36m(DefaultActor pid=8468)\u001b[0m [Client 63, round 1] fit, config: {'server_round': 1, 'local_epochs': 3}\n",
            "\u001b[2m\u001b[36m(DefaultActor pid=8468)\u001b[0m Epoch 1: train loss 0.10214870423078537, accuracy 0.08888888888888889\n",
            "\u001b[2m\u001b[36m(DefaultActor pid=8468)\u001b[0m Epoch 2: train loss 0.10084177553653717, accuracy 0.13333333333333333\n",
            "\u001b[2m\u001b[36m(DefaultActor pid=8468)\u001b[0m Epoch 3: train loss 0.09850968420505524, accuracy 0.17777777777777778\n",
            "\u001b[2m\u001b[36m(DefaultActor pid=8468)\u001b[0m [Client 948, round 1] fit, config: {'server_round': 1, 'local_epochs': 3}\n",
            "\u001b[2m\u001b[36m(DefaultActor pid=8468)\u001b[0m Epoch 1: train loss 0.10283105075359344, accuracy 0.08888888888888889\n",
            "\u001b[2m\u001b[36m(DefaultActor pid=8468)\u001b[0m Epoch 2: train loss 0.10131223499774933, accuracy 0.08888888888888889\n",
            "\u001b[2m\u001b[36m(DefaultActor pid=8468)\u001b[0m Epoch 3: train loss 0.09999915212392807, accuracy 0.13333333333333333\n",
            "\u001b[2m\u001b[36m(DefaultActor pid=8468)\u001b[0m [Client 173, round 1] fit, config: {'server_round': 1, 'local_epochs': 3}\n",
            "\u001b[2m\u001b[36m(DefaultActor pid=8468)\u001b[0m Epoch 1: train loss 0.10315427929162979, accuracy 0.13333333333333333\n",
            "\u001b[2m\u001b[36m(DefaultActor pid=8468)\u001b[0m Epoch 2: train loss 0.10152187943458557, accuracy 0.2\n",
            "\u001b[2m\u001b[36m(DefaultActor pid=8468)\u001b[0m Epoch 3: train loss 0.10077159106731415, accuracy 0.2\n",
            "\u001b[2m\u001b[36m(DefaultActor pid=8468)\u001b[0m [Client 203, round 1] fit, config: {'server_round': 1, 'local_epochs': 3}\n",
            "\u001b[2m\u001b[36m(DefaultActor pid=8468)\u001b[0m Epoch 1: train loss 0.10287505388259888, accuracy 0.06666666666666667\n",
            "\u001b[2m\u001b[36m(DefaultActor pid=8468)\u001b[0m Epoch 2: train loss 0.10138727724552155, accuracy 0.17777777777777778\n",
            "\u001b[2m\u001b[36m(DefaultActor pid=8468)\u001b[0m Epoch 3: train loss 0.10030350089073181, accuracy 0.17777777777777778\n",
            "\u001b[2m\u001b[36m(DefaultActor pid=8468)\u001b[0m [Client 128, round 1] fit, config: {'server_round': 1, 'local_epochs': 3}\n",
            "\u001b[2m\u001b[36m(DefaultActor pid=8468)\u001b[0m Epoch 1: train loss 0.10183441638946533, accuracy 0.1111111111111111\n",
            "\u001b[2m\u001b[36m(DefaultActor pid=8468)\u001b[0m Epoch 2: train loss 0.10104133188724518, accuracy 0.13333333333333333\n",
            "\u001b[2m\u001b[36m(DefaultActor pid=8468)\u001b[0m Epoch 3: train loss 0.10018385201692581, accuracy 0.17777777777777778\n",
            "\u001b[2m\u001b[36m(DefaultActor pid=8468)\u001b[0m [Client 51, round 1] fit, config: {'server_round': 1, 'local_epochs': 3}\n",
            "\u001b[2m\u001b[36m(DefaultActor pid=8468)\u001b[0m Epoch 1: train loss 0.10187512636184692, accuracy 0.15555555555555556\n",
            "\u001b[2m\u001b[36m(DefaultActor pid=8468)\u001b[0m Epoch 2: train loss 0.10104300081729889, accuracy 0.15555555555555556\n",
            "\u001b[2m\u001b[36m(DefaultActor pid=8468)\u001b[0m Epoch 3: train loss 0.09996187686920166, accuracy 0.15555555555555556\n",
            "\u001b[2m\u001b[36m(DefaultActor pid=8468)\u001b[0m [Client 450, round 1] fit, config: {'server_round': 1, 'local_epochs': 3}\n",
            "\u001b[2m\u001b[36m(DefaultActor pid=8468)\u001b[0m Epoch 1: train loss 0.10214509069919586, accuracy 0.022222222222222223\n",
            "\u001b[2m\u001b[36m(DefaultActor pid=8468)\u001b[0m Epoch 2: train loss 0.1004132479429245, accuracy 0.2\n",
            "\u001b[2m\u001b[36m(DefaultActor pid=8468)\u001b[0m Epoch 3: train loss 0.0995001494884491, accuracy 0.2\n",
            "\u001b[2m\u001b[36m(DefaultActor pid=8468)\u001b[0m [Client 775, round 1] fit, config: {'server_round': 1, 'local_epochs': 3}\n",
            "\u001b[2m\u001b[36m(DefaultActor pid=8468)\u001b[0m Epoch 1: train loss 0.10170115530490875, accuracy 0.13333333333333333\n",
            "\u001b[2m\u001b[36m(DefaultActor pid=8468)\u001b[0m Epoch 2: train loss 0.10128320008516312, accuracy 0.13333333333333333\n",
            "\u001b[2m\u001b[36m(DefaultActor pid=8468)\u001b[0m Epoch 3: train loss 0.10060636699199677, accuracy 0.2222222222222222\n",
            "\u001b[2m\u001b[36m(DefaultActor pid=8468)\u001b[0m [Client 483, round 1] fit, config: {'server_round': 1, 'local_epochs': 3}\n",
            "\u001b[2m\u001b[36m(DefaultActor pid=8468)\u001b[0m Epoch 1: train loss 0.10230159759521484, accuracy 0.08888888888888889\n",
            "\u001b[2m\u001b[36m(DefaultActor pid=8468)\u001b[0m Epoch 2: train loss 0.10171026736497879, accuracy 0.17777777777777778\n",
            "\u001b[2m\u001b[36m(DefaultActor pid=8468)\u001b[0m Epoch 3: train loss 0.10119134187698364, accuracy 0.17777777777777778\n",
            "\u001b[2m\u001b[36m(DefaultActor pid=8468)\u001b[0m [Client 564, round 1] fit, config: {'server_round': 1, 'local_epochs': 3}\n",
            "\u001b[2m\u001b[36m(DefaultActor pid=8468)\u001b[0m Epoch 1: train loss 0.10294369608163834, accuracy 0.1111111111111111\n",
            "\u001b[2m\u001b[36m(DefaultActor pid=8468)\u001b[0m Epoch 2: train loss 0.10186639428138733, accuracy 0.1111111111111111\n",
            "\u001b[2m\u001b[36m(DefaultActor pid=8468)\u001b[0m Epoch 3: train loss 0.10124080628156662, accuracy 0.13333333333333333\n"
          ]
        },
        {
          "output_type": "stream",
          "name": "stderr",
          "text": [
            "DEBUG flwr 2023-11-29 11:35:00,602 | server.py:236 | fit_round 1 received 25 results and 0 failures\n",
            "DEBUG:flwr:fit_round 1 received 25 results and 0 failures\n",
            "WARNING flwr 2023-11-29 11:35:00,654 | fedavg.py:242 | No fit_metrics_aggregation_fn provided\n",
            "WARNING:flwr:No fit_metrics_aggregation_fn provided\n",
            "DEBUG flwr 2023-11-29 11:35:00,658 | server.py:173 | evaluate_round 1: strategy sampled 50 clients (out of 1000)\n",
            "DEBUG:flwr:evaluate_round 1: strategy sampled 50 clients (out of 1000)\n"
          ]
        },
        {
          "output_type": "stream",
          "name": "stdout",
          "text": [
            "\u001b[2m\u001b[36m(DefaultActor pid=8468)\u001b[0m [Client 912, round 1] fit, config: {'server_round': 1, 'local_epochs': 3}\n",
            "\u001b[2m\u001b[36m(DefaultActor pid=8468)\u001b[0m Epoch 1: train loss 0.10237844288349152, accuracy 0.15555555555555556\n",
            "\u001b[2m\u001b[36m(DefaultActor pid=8468)\u001b[0m Epoch 2: train loss 0.1013769879937172, accuracy 0.15555555555555556\n",
            "\u001b[2m\u001b[36m(DefaultActor pid=8468)\u001b[0m Epoch 3: train loss 0.10036572813987732, accuracy 0.15555555555555556\n",
            "\u001b[2m\u001b[36m(DefaultActor pid=8468)\u001b[0m [Client 643] evaluate, config: {}\n",
            "\u001b[2m\u001b[36m(DefaultActor pid=8468)\u001b[0m [Client 836] evaluate, config: {}\n",
            "\u001b[2m\u001b[36m(DefaultActor pid=8468)\u001b[0m [Client 526] evaluate, config: {}\n",
            "\u001b[2m\u001b[36m(DefaultActor pid=8468)\u001b[0m [Client 38] evaluate, config: {}\n",
            "\u001b[2m\u001b[36m(DefaultActor pid=8468)\u001b[0m [Client 112] evaluate, config: {}\n",
            "\u001b[2m\u001b[36m(DefaultActor pid=8468)\u001b[0m [Client 139] evaluate, config: {}\n",
            "\u001b[2m\u001b[36m(DefaultActor pid=8468)\u001b[0m [Client 737] evaluate, config: {}\n",
            "\u001b[2m\u001b[36m(DefaultActor pid=8468)\u001b[0m [Client 185] evaluate, config: {}\n",
            "\u001b[2m\u001b[36m(DefaultActor pid=8468)\u001b[0m [Client 87] evaluate, config: {}\n",
            "\u001b[2m\u001b[36m(DefaultActor pid=8468)\u001b[0m [Client 149] evaluate, config: {}\n",
            "\u001b[2m\u001b[36m(DefaultActor pid=8468)\u001b[0m [Client 45] evaluate, config: {}\n",
            "\u001b[2m\u001b[36m(DefaultActor pid=8468)\u001b[0m [Client 119] evaluate, config: {}\n",
            "\u001b[2m\u001b[36m(DefaultActor pid=8468)\u001b[0m [Client 163] evaluate, config: {}\n",
            "\u001b[2m\u001b[36m(DefaultActor pid=8468)\u001b[0m [Client 943] evaluate, config: {}\n",
            "\u001b[2m\u001b[36m(DefaultActor pid=8468)\u001b[0m [Client 563] evaluate, config: {}\n",
            "\u001b[2m\u001b[36m(DefaultActor pid=8468)\u001b[0m [Client 778] evaluate, config: {}\n",
            "\u001b[2m\u001b[36m(DefaultActor pid=8468)\u001b[0m [Client 173] evaluate, config: {}\n",
            "\u001b[2m\u001b[36m(DefaultActor pid=8468)\u001b[0m [Client 740] evaluate, config: {}\n",
            "\u001b[2m\u001b[36m(DefaultActor pid=8468)\u001b[0m [Client 80] evaluate, config: {}\n",
            "\u001b[2m\u001b[36m(DefaultActor pid=8468)\u001b[0m [Client 792] evaluate, config: {}\n",
            "\u001b[2m\u001b[36m(DefaultActor pid=8468)\u001b[0m [Client 735] evaluate, config: {}\n",
            "\u001b[2m\u001b[36m(DefaultActor pid=8468)\u001b[0m [Client 697] evaluate, config: {}\n",
            "\u001b[2m\u001b[36m(DefaultActor pid=8468)\u001b[0m [Client 411] evaluate, config: {}\n",
            "\u001b[2m\u001b[36m(DefaultActor pid=8468)\u001b[0m [Client 35] evaluate, config: {}\n",
            "\u001b[2m\u001b[36m(DefaultActor pid=8468)\u001b[0m [Client 731] evaluate, config: {}\n",
            "\u001b[2m\u001b[36m(DefaultActor pid=8468)\u001b[0m [Client 237] evaluate, config: {}\n",
            "\u001b[2m\u001b[36m(DefaultActor pid=8468)\u001b[0m [Client 833] evaluate, config: {}\n",
            "\u001b[2m\u001b[36m(DefaultActor pid=8468)\u001b[0m [Client 301] evaluate, config: {}\n",
            "\u001b[2m\u001b[36m(DefaultActor pid=8468)\u001b[0m [Client 230] evaluate, config: {}\n",
            "\u001b[2m\u001b[36m(DefaultActor pid=8468)\u001b[0m [Client 193] evaluate, config: {}\n",
            "\u001b[2m\u001b[36m(DefaultActor pid=8468)\u001b[0m [Client 785] evaluate, config: {}\n",
            "\u001b[2m\u001b[36m(DefaultActor pid=8468)\u001b[0m [Client 229] evaluate, config: {}\n",
            "\u001b[2m\u001b[36m(DefaultActor pid=8468)\u001b[0m [Client 617] evaluate, config: {}\n",
            "\u001b[2m\u001b[36m(DefaultActor pid=8468)\u001b[0m [Client 594] evaluate, config: {}\n",
            "\u001b[2m\u001b[36m(DefaultActor pid=8468)\u001b[0m [Client 671] evaluate, config: {}\n",
            "\u001b[2m\u001b[36m(DefaultActor pid=8468)\u001b[0m [Client 652] evaluate, config: {}\n",
            "\u001b[2m\u001b[36m(DefaultActor pid=8468)\u001b[0m [Client 883] evaluate, config: {}\n",
            "\u001b[2m\u001b[36m(DefaultActor pid=8468)\u001b[0m [Client 154] evaluate, config: {}\n",
            "\u001b[2m\u001b[36m(DefaultActor pid=8468)\u001b[0m [Client 426] evaluate, config: {}\n",
            "\u001b[2m\u001b[36m(DefaultActor pid=8468)\u001b[0m [Client 278] evaluate, config: {}\n",
            "\u001b[2m\u001b[36m(DefaultActor pid=8468)\u001b[0m [Client 357] evaluate, config: {}\n",
            "\u001b[2m\u001b[36m(DefaultActor pid=8468)\u001b[0m [Client 24] evaluate, config: {}\n",
            "\u001b[2m\u001b[36m(DefaultActor pid=8468)\u001b[0m [Client 47] evaluate, config: {}\n",
            "\u001b[2m\u001b[36m(DefaultActor pid=8468)\u001b[0m [Client 259] evaluate, config: {}\n",
            "\u001b[2m\u001b[36m(DefaultActor pid=8468)\u001b[0m [Client 447] evaluate, config: {}\n",
            "\u001b[2m\u001b[36m(DefaultActor pid=8468)\u001b[0m [Client 597] evaluate, config: {}\n",
            "\u001b[2m\u001b[36m(DefaultActor pid=8468)\u001b[0m [Client 317] evaluate, config: {}\n",
            "\u001b[2m\u001b[36m(DefaultActor pid=8468)\u001b[0m [Client 530] evaluate, config: {}\n"
          ]
        },
        {
          "output_type": "stream",
          "name": "stderr",
          "text": [
            "DEBUG flwr 2023-11-29 11:36:19,762 | server.py:187 | evaluate_round 1 received 50 results and 0 failures\n",
            "DEBUG:flwr:evaluate_round 1 received 50 results and 0 failures\n",
            "WARNING flwr 2023-11-29 11:36:19,767 | fedavg.py:273 | No evaluate_metrics_aggregation_fn provided\n",
            "WARNING:flwr:No evaluate_metrics_aggregation_fn provided\n",
            "DEBUG flwr 2023-11-29 11:36:19,773 | server.py:222 | fit_round 2: strategy sampled 25 clients (out of 1000)\n"
          ]
        },
        {
          "output_type": "stream",
          "name": "stdout",
          "text": [
            "\u001b[2m\u001b[36m(DefaultActor pid=8468)\u001b[0m [Client 729] evaluate, config: {}\n"
          ]
        },
        {
          "output_type": "stream",
          "name": "stderr",
          "text": [
            "DEBUG:flwr:fit_round 2: strategy sampled 25 clients (out of 1000)\n"
          ]
        },
        {
          "output_type": "stream",
          "name": "stdout",
          "text": [
            "\u001b[2m\u001b[36m(DefaultActor pid=8468)\u001b[0m [Client 78] evaluate, config: {}\n",
            "\u001b[2m\u001b[36m(DefaultActor pid=8468)\u001b[0m [Client 578, round 2] fit, config: {'server_round': 2, 'local_epochs': 3}\n",
            "\u001b[2m\u001b[36m(DefaultActor pid=8468)\u001b[0m Epoch 1: train loss 0.10210554301738739, accuracy 0.06666666666666667\n",
            "\u001b[2m\u001b[36m(DefaultActor pid=8468)\u001b[0m Epoch 2: train loss 0.1011156514286995, accuracy 0.26666666666666666\n",
            "\u001b[2m\u001b[36m(DefaultActor pid=8468)\u001b[0m Epoch 3: train loss 0.09987325221300125, accuracy 0.35555555555555557\n",
            "\u001b[2m\u001b[36m(DefaultActor pid=8468)\u001b[0m [Client 696, round 2] fit, config: {'server_round': 2, 'local_epochs': 3}\n",
            "\u001b[2m\u001b[36m(DefaultActor pid=8468)\u001b[0m Epoch 1: train loss 0.10258402675390244, accuracy 0.1111111111111111\n",
            "\u001b[2m\u001b[36m(DefaultActor pid=8468)\u001b[0m Epoch 2: train loss 0.10139607638120651, accuracy 0.1111111111111111\n",
            "\u001b[2m\u001b[36m(DefaultActor pid=8468)\u001b[0m Epoch 3: train loss 0.10007928311824799, accuracy 0.24444444444444444\n",
            "\u001b[2m\u001b[36m(DefaultActor pid=8468)\u001b[0m [Client 607, round 2] fit, config: {'server_round': 2, 'local_epochs': 3}\n",
            "\u001b[2m\u001b[36m(DefaultActor pid=8468)\u001b[0m Epoch 1: train loss 0.10202497988939285, accuracy 0.06666666666666667\n",
            "\u001b[2m\u001b[36m(DefaultActor pid=8468)\u001b[0m Epoch 2: train loss 0.1001349464058876, accuracy 0.26666666666666666\n",
            "\u001b[2m\u001b[36m(DefaultActor pid=8468)\u001b[0m Epoch 3: train loss 0.09822478890419006, accuracy 0.2\n",
            "\u001b[2m\u001b[36m(DefaultActor pid=8468)\u001b[0m [Client 920, round 2] fit, config: {'server_round': 2, 'local_epochs': 3}\n",
            "\u001b[2m\u001b[36m(DefaultActor pid=8468)\u001b[0m Epoch 1: train loss 0.10188529640436172, accuracy 0.1111111111111111\n",
            "\u001b[2m\u001b[36m(DefaultActor pid=8468)\u001b[0m Epoch 2: train loss 0.1002950668334961, accuracy 0.24444444444444444\n",
            "\u001b[2m\u001b[36m(DefaultActor pid=8468)\u001b[0m Epoch 3: train loss 0.0987991988658905, accuracy 0.3111111111111111\n",
            "\u001b[2m\u001b[36m(DefaultActor pid=8468)\u001b[0m [Client 842, round 2] fit, config: {'server_round': 2, 'local_epochs': 3}\n",
            "\u001b[2m\u001b[36m(DefaultActor pid=8468)\u001b[0m Epoch 1: train loss 0.10207793116569519, accuracy 0.06666666666666667\n",
            "\u001b[2m\u001b[36m(DefaultActor pid=8468)\u001b[0m Epoch 2: train loss 0.10112365335226059, accuracy 0.15555555555555556\n",
            "\u001b[2m\u001b[36m(DefaultActor pid=8468)\u001b[0m Epoch 3: train loss 0.10063239187002182, accuracy 0.15555555555555556\n",
            "\u001b[2m\u001b[36m(DefaultActor pid=8468)\u001b[0m [Client 287, round 2] fit, config: {'server_round': 2, 'local_epochs': 3}\n",
            "\u001b[2m\u001b[36m(DefaultActor pid=8468)\u001b[0m Epoch 1: train loss 0.10263555496931076, accuracy 0.13333333333333333\n",
            "\u001b[2m\u001b[36m(DefaultActor pid=8468)\u001b[0m Epoch 2: train loss 0.10164625942707062, accuracy 0.13333333333333333\n",
            "\u001b[2m\u001b[36m(DefaultActor pid=8468)\u001b[0m Epoch 3: train loss 0.09958888590335846, accuracy 0.13333333333333333\n",
            "\u001b[2m\u001b[36m(DefaultActor pid=8468)\u001b[0m [Client 502, round 2] fit, config: {'server_round': 2, 'local_epochs': 3}\n",
            "\u001b[2m\u001b[36m(DefaultActor pid=8468)\u001b[0m Epoch 1: train loss 0.10233328491449356, accuracy 0.1111111111111111\n",
            "\u001b[2m\u001b[36m(DefaultActor pid=8468)\u001b[0m Epoch 2: train loss 0.10091966390609741, accuracy 0.17777777777777778\n",
            "\u001b[2m\u001b[36m(DefaultActor pid=8468)\u001b[0m Epoch 3: train loss 0.10003314912319183, accuracy 0.2\n",
            "\u001b[2m\u001b[36m(DefaultActor pid=8468)\u001b[0m [Client 817, round 2] fit, config: {'server_round': 2, 'local_epochs': 3}\n",
            "\u001b[2m\u001b[36m(DefaultActor pid=8468)\u001b[0m Epoch 1: train loss 0.10163763165473938, accuracy 0.1111111111111111\n",
            "\u001b[2m\u001b[36m(DefaultActor pid=8468)\u001b[0m Epoch 2: train loss 0.10054512321949005, accuracy 0.17777777777777778\n",
            "\u001b[2m\u001b[36m(DefaultActor pid=8468)\u001b[0m Epoch 3: train loss 0.09963487088680267, accuracy 0.3333333333333333\n",
            "\u001b[2m\u001b[36m(DefaultActor pid=8468)\u001b[0m [Client 388, round 2] fit, config: {'server_round': 2, 'local_epochs': 3}\n",
            "\u001b[2m\u001b[36m(DefaultActor pid=8468)\u001b[0m Epoch 1: train loss 0.10191984474658966, accuracy 0.08888888888888889\n",
            "\u001b[2m\u001b[36m(DefaultActor pid=8468)\u001b[0m Epoch 2: train loss 0.10077240318059921, accuracy 0.2222222222222222\n",
            "\u001b[2m\u001b[36m(DefaultActor pid=8468)\u001b[0m Epoch 3: train loss 0.09911024570465088, accuracy 0.26666666666666666\n",
            "\u001b[2m\u001b[36m(DefaultActor pid=8468)\u001b[0m [Client 929, round 2] fit, config: {'server_round': 2, 'local_epochs': 3}\n",
            "\u001b[2m\u001b[36m(DefaultActor pid=8468)\u001b[0m Epoch 1: train loss 0.10228811949491501, accuracy 0.08888888888888889\n",
            "\u001b[2m\u001b[36m(DefaultActor pid=8468)\u001b[0m Epoch 2: train loss 0.10136957466602325, accuracy 0.1111111111111111\n",
            "\u001b[2m\u001b[36m(DefaultActor pid=8468)\u001b[0m Epoch 3: train loss 0.10071485489606857, accuracy 0.24444444444444444\n",
            "\u001b[2m\u001b[36m(DefaultActor pid=8468)\u001b[0m [Client 762, round 2] fit, config: {'server_round': 2, 'local_epochs': 3}\n",
            "\u001b[2m\u001b[36m(DefaultActor pid=8468)\u001b[0m Epoch 1: train loss 0.10244378447532654, accuracy 0.1111111111111111\n",
            "\u001b[2m\u001b[36m(DefaultActor pid=8468)\u001b[0m Epoch 2: train loss 0.10113796591758728, accuracy 0.17777777777777778\n",
            "\u001b[2m\u001b[36m(DefaultActor pid=8468)\u001b[0m Epoch 3: train loss 0.09988027065992355, accuracy 0.15555555555555556\n",
            "\u001b[2m\u001b[36m(DefaultActor pid=8468)\u001b[0m [Client 449, round 2] fit, config: {'server_round': 2, 'local_epochs': 3}\n",
            "\u001b[2m\u001b[36m(DefaultActor pid=8468)\u001b[0m Epoch 1: train loss 0.10160800069570541, accuracy 0.15555555555555556\n",
            "\u001b[2m\u001b[36m(DefaultActor pid=8468)\u001b[0m Epoch 2: train loss 0.10089430212974548, accuracy 0.3111111111111111\n",
            "\u001b[2m\u001b[36m(DefaultActor pid=8468)\u001b[0m Epoch 3: train loss 0.0992879644036293, accuracy 0.2\n",
            "\u001b[2m\u001b[36m(DefaultActor pid=8468)\u001b[0m [Client 155, round 2] fit, config: {'server_round': 2, 'local_epochs': 3}\n",
            "\u001b[2m\u001b[36m(DefaultActor pid=8468)\u001b[0m Epoch 1: train loss 0.10183162987232208, accuracy 0.1111111111111111\n",
            "\u001b[2m\u001b[36m(DefaultActor pid=8468)\u001b[0m Epoch 2: train loss 0.10094983130693436, accuracy 0.17777777777777778\n",
            "\u001b[2m\u001b[36m(DefaultActor pid=8468)\u001b[0m Epoch 3: train loss 0.09985698014497757, accuracy 0.2\n",
            "\u001b[2m\u001b[36m(DefaultActor pid=8468)\u001b[0m [Client 904, round 2] fit, config: {'server_round': 2, 'local_epochs': 3}\n",
            "\u001b[2m\u001b[36m(DefaultActor pid=8468)\u001b[0m Epoch 1: train loss 0.10215206444263458, accuracy 0.08888888888888889\n",
            "\u001b[2m\u001b[36m(DefaultActor pid=8468)\u001b[0m Epoch 2: train loss 0.10092662274837494, accuracy 0.17777777777777778\n",
            "\u001b[2m\u001b[36m(DefaultActor pid=8468)\u001b[0m Epoch 3: train loss 0.09914379566907883, accuracy 0.2\n",
            "\u001b[2m\u001b[36m(DefaultActor pid=8468)\u001b[0m [Client 626, round 2] fit, config: {'server_round': 2, 'local_epochs': 3}\n",
            "\u001b[2m\u001b[36m(DefaultActor pid=8468)\u001b[0m Epoch 1: train loss 0.10213269293308258, accuracy 0.08888888888888889\n",
            "\u001b[2m\u001b[36m(DefaultActor pid=8468)\u001b[0m Epoch 2: train loss 0.10050556808710098, accuracy 0.13333333333333333\n",
            "\u001b[2m\u001b[36m(DefaultActor pid=8468)\u001b[0m Epoch 3: train loss 0.09941760450601578, accuracy 0.17777777777777778\n",
            "\u001b[2m\u001b[36m(DefaultActor pid=8468)\u001b[0m [Client 459, round 2] fit, config: {'server_round': 2, 'local_epochs': 3}\n",
            "\u001b[2m\u001b[36m(DefaultActor pid=8468)\u001b[0m Epoch 1: train loss 0.10157080739736557, accuracy 0.13333333333333333\n",
            "\u001b[2m\u001b[36m(DefaultActor pid=8468)\u001b[0m Epoch 2: train loss 0.10006514936685562, accuracy 0.28888888888888886\n",
            "\u001b[2m\u001b[36m(DefaultActor pid=8468)\u001b[0m Epoch 3: train loss 0.09928929060697556, accuracy 0.26666666666666666\n",
            "\u001b[2m\u001b[36m(DefaultActor pid=8468)\u001b[0m [Client 809, round 2] fit, config: {'server_round': 2, 'local_epochs': 3}\n",
            "\u001b[2m\u001b[36m(DefaultActor pid=8468)\u001b[0m Epoch 1: train loss 0.10195239633321762, accuracy 0.1111111111111111\n",
            "\u001b[2m\u001b[36m(DefaultActor pid=8468)\u001b[0m Epoch 2: train loss 0.10081611573696136, accuracy 0.2222222222222222\n",
            "\u001b[2m\u001b[36m(DefaultActor pid=8468)\u001b[0m Epoch 3: train loss 0.09953422844409943, accuracy 0.2\n",
            "\u001b[2m\u001b[36m(DefaultActor pid=8468)\u001b[0m [Client 727, round 2] fit, config: {'server_round': 2, 'local_epochs': 3}\n",
            "\u001b[2m\u001b[36m(DefaultActor pid=8468)\u001b[0m Epoch 1: train loss 0.10204193741083145, accuracy 0.022222222222222223\n",
            "\u001b[2m\u001b[36m(DefaultActor pid=8468)\u001b[0m Epoch 2: train loss 0.09882209450006485, accuracy 0.2222222222222222\n",
            "\u001b[2m\u001b[36m(DefaultActor pid=8468)\u001b[0m Epoch 3: train loss 0.09744714200496674, accuracy 0.2222222222222222\n",
            "\u001b[2m\u001b[36m(DefaultActor pid=8468)\u001b[0m [Client 298, round 2] fit, config: {'server_round': 2, 'local_epochs': 3}\n",
            "\u001b[2m\u001b[36m(DefaultActor pid=8468)\u001b[0m Epoch 1: train loss 0.10249019414186478, accuracy 0.08888888888888889\n",
            "\u001b[2m\u001b[36m(DefaultActor pid=8468)\u001b[0m Epoch 2: train loss 0.10074702650308609, accuracy 0.13333333333333333\n",
            "\u001b[2m\u001b[36m(DefaultActor pid=8468)\u001b[0m Epoch 3: train loss 0.09986119717359543, accuracy 0.2222222222222222\n",
            "\u001b[2m\u001b[36m(DefaultActor pid=8468)\u001b[0m [Client 94, round 2] fit, config: {'server_round': 2, 'local_epochs': 3}\n",
            "\u001b[2m\u001b[36m(DefaultActor pid=8468)\u001b[0m Epoch 1: train loss 0.10272584855556488, accuracy 0.06666666666666667\n",
            "\u001b[2m\u001b[36m(DefaultActor pid=8468)\u001b[0m Epoch 2: train loss 0.1009102314710617, accuracy 0.17777777777777778\n",
            "\u001b[2m\u001b[36m(DefaultActor pid=8468)\u001b[0m Epoch 3: train loss 0.10081367939710617, accuracy 0.2\n",
            "\u001b[2m\u001b[36m(DefaultActor pid=8468)\u001b[0m [Client 23, round 2] fit, config: {'server_round': 2, 'local_epochs': 3}\n",
            "\u001b[2m\u001b[36m(DefaultActor pid=8468)\u001b[0m Epoch 1: train loss 0.10213334858417511, accuracy 0.08888888888888889\n",
            "\u001b[2m\u001b[36m(DefaultActor pid=8468)\u001b[0m Epoch 2: train loss 0.1007256880402565, accuracy 0.17777777777777778\n",
            "\u001b[2m\u001b[36m(DefaultActor pid=8468)\u001b[0m Epoch 3: train loss 0.09880924224853516, accuracy 0.15555555555555556\n",
            "\u001b[2m\u001b[36m(DefaultActor pid=8468)\u001b[0m [Client 679, round 2] fit, config: {'server_round': 2, 'local_epochs': 3}\n",
            "\u001b[2m\u001b[36m(DefaultActor pid=8468)\u001b[0m Epoch 1: train loss 0.10140864551067352, accuracy 0.13333333333333333\n",
            "\u001b[2m\u001b[36m(DefaultActor pid=8468)\u001b[0m Epoch 2: train loss 0.09991402179002762, accuracy 0.2\n",
            "\u001b[2m\u001b[36m(DefaultActor pid=8468)\u001b[0m Epoch 3: train loss 0.09750571846961975, accuracy 0.2\n",
            "\u001b[2m\u001b[36m(DefaultActor pid=8468)\u001b[0m [Client 397, round 2] fit, config: {'server_round': 2, 'local_epochs': 3}\n",
            "\u001b[2m\u001b[36m(DefaultActor pid=8468)\u001b[0m Epoch 1: train loss 0.10244442522525787, accuracy 0.1111111111111111\n",
            "\u001b[2m\u001b[36m(DefaultActor pid=8468)\u001b[0m Epoch 2: train loss 0.1001008152961731, accuracy 0.2222222222222222\n",
            "\u001b[2m\u001b[36m(DefaultActor pid=8468)\u001b[0m Epoch 3: train loss 0.09841491281986237, accuracy 0.2222222222222222\n",
            "\u001b[2m\u001b[36m(DefaultActor pid=8468)\u001b[0m [Client 363, round 2] fit, config: {'server_round': 2, 'local_epochs': 3}\n",
            "\u001b[2m\u001b[36m(DefaultActor pid=8468)\u001b[0m Epoch 1: train loss 0.1024947538971901, accuracy 0.1111111111111111\n",
            "\u001b[2m\u001b[36m(DefaultActor pid=8468)\u001b[0m Epoch 2: train loss 0.10091200470924377, accuracy 0.2\n",
            "\u001b[2m\u001b[36m(DefaultActor pid=8468)\u001b[0m Epoch 3: train loss 0.09826917946338654, accuracy 0.2\n"
          ]
        },
        {
          "output_type": "stream",
          "name": "stderr",
          "text": [
            "DEBUG flwr 2023-11-29 11:37:00,666 | server.py:236 | fit_round 2 received 25 results and 0 failures\n",
            "DEBUG:flwr:fit_round 2 received 25 results and 0 failures\n",
            "DEBUG flwr 2023-11-29 11:37:00,751 | server.py:173 | evaluate_round 2: strategy sampled 50 clients (out of 1000)\n",
            "DEBUG:flwr:evaluate_round 2: strategy sampled 50 clients (out of 1000)\n"
          ]
        },
        {
          "output_type": "stream",
          "name": "stdout",
          "text": [
            "\u001b[2m\u001b[36m(DefaultActor pid=8468)\u001b[0m [Client 166, round 2] fit, config: {'server_round': 2, 'local_epochs': 3}\n",
            "\u001b[2m\u001b[36m(DefaultActor pid=8468)\u001b[0m Epoch 1: train loss 0.10128239542245865, accuracy 0.17777777777777778\n",
            "\u001b[2m\u001b[36m(DefaultActor pid=8468)\u001b[0m Epoch 2: train loss 0.09985587000846863, accuracy 0.2\n",
            "\u001b[2m\u001b[36m(DefaultActor pid=8468)\u001b[0m Epoch 3: train loss 0.09874380379915237, accuracy 0.2\n",
            "\u001b[2m\u001b[36m(DefaultActor pid=8468)\u001b[0m [Client 313] evaluate, config: {}\n",
            "\u001b[2m\u001b[36m(DefaultActor pid=8468)\u001b[0m [Client 440] evaluate, config: {}\n",
            "\u001b[2m\u001b[36m(DefaultActor pid=8468)\u001b[0m [Client 847] evaluate, config: {}\n",
            "\u001b[2m\u001b[36m(DefaultActor pid=8468)\u001b[0m [Client 706] evaluate, config: {}\n",
            "\u001b[2m\u001b[36m(DefaultActor pid=8468)\u001b[0m [Client 737] evaluate, config: {}\n",
            "\u001b[2m\u001b[36m(DefaultActor pid=8468)\u001b[0m [Client 83] evaluate, config: {}\n",
            "\u001b[2m\u001b[36m(DefaultActor pid=8468)\u001b[0m [Client 419] evaluate, config: {}\n",
            "\u001b[2m\u001b[36m(DefaultActor pid=8468)\u001b[0m [Client 85] evaluate, config: {}\n",
            "\u001b[2m\u001b[36m(DefaultActor pid=8468)\u001b[0m [Client 301] evaluate, config: {}\n",
            "\u001b[2m\u001b[36m(DefaultActor pid=8468)\u001b[0m [Client 73] evaluate, config: {}\n",
            "\u001b[2m\u001b[36m(DefaultActor pid=8468)\u001b[0m [Client 9] evaluate, config: {}\n",
            "\u001b[2m\u001b[36m(DefaultActor pid=8468)\u001b[0m [Client 294] evaluate, config: {}\n",
            "\u001b[2m\u001b[36m(DefaultActor pid=8468)\u001b[0m [Client 453] evaluate, config: {}\n",
            "\u001b[2m\u001b[36m(DefaultActor pid=8468)\u001b[0m [Client 60] evaluate, config: {}\n",
            "\u001b[2m\u001b[36m(DefaultActor pid=8468)\u001b[0m [Client 228] evaluate, config: {}\n",
            "\u001b[2m\u001b[36m(DefaultActor pid=8468)\u001b[0m [Client 673] evaluate, config: {}\n",
            "\u001b[2m\u001b[36m(DefaultActor pid=8468)\u001b[0m [Client 496] evaluate, config: {}\n",
            "\u001b[2m\u001b[36m(DefaultActor pid=8468)\u001b[0m [Client 577] evaluate, config: {}\n",
            "\u001b[2m\u001b[36m(DefaultActor pid=8468)\u001b[0m [Client 254] evaluate, config: {}\n",
            "\u001b[2m\u001b[36m(DefaultActor pid=8468)\u001b[0m [Client 140] evaluate, config: {}\n",
            "\u001b[2m\u001b[36m(DefaultActor pid=8468)\u001b[0m [Client 265] evaluate, config: {}\n",
            "\u001b[2m\u001b[36m(DefaultActor pid=8468)\u001b[0m [Client 405] evaluate, config: {}\n",
            "\u001b[2m\u001b[36m(DefaultActor pid=8468)\u001b[0m [Client 744] evaluate, config: {}\n",
            "\u001b[2m\u001b[36m(DefaultActor pid=8468)\u001b[0m [Client 253] evaluate, config: {}\n",
            "\u001b[2m\u001b[36m(DefaultActor pid=8468)\u001b[0m [Client 972] evaluate, config: {}\n",
            "\u001b[2m\u001b[36m(DefaultActor pid=8468)\u001b[0m [Client 855] evaluate, config: {}\n",
            "\u001b[2m\u001b[36m(DefaultActor pid=8468)\u001b[0m [Client 807] evaluate, config: {}\n",
            "\u001b[2m\u001b[36m(DefaultActor pid=8468)\u001b[0m [Client 468] evaluate, config: {}\n",
            "\u001b[2m\u001b[36m(DefaultActor pid=8468)\u001b[0m [Client 600] evaluate, config: {}\n",
            "\u001b[2m\u001b[36m(DefaultActor pid=8468)\u001b[0m [Client 689] evaluate, config: {}\n",
            "\u001b[2m\u001b[36m(DefaultActor pid=8468)\u001b[0m [Client 515] evaluate, config: {}\n",
            "\u001b[2m\u001b[36m(DefaultActor pid=8468)\u001b[0m [Client 910] evaluate, config: {}\n",
            "\u001b[2m\u001b[36m(DefaultActor pid=8468)\u001b[0m [Client 102] evaluate, config: {}\n",
            "\u001b[2m\u001b[36m(DefaultActor pid=8468)\u001b[0m [Client 773] evaluate, config: {}\n",
            "\u001b[2m\u001b[36m(DefaultActor pid=8468)\u001b[0m [Client 78] evaluate, config: {}\n",
            "\u001b[2m\u001b[36m(DefaultActor pid=8468)\u001b[0m [Client 518] evaluate, config: {}\n",
            "\u001b[2m\u001b[36m(DefaultActor pid=8468)\u001b[0m [Client 267] evaluate, config: {}\n",
            "\u001b[2m\u001b[36m(DefaultActor pid=8468)\u001b[0m [Client 727] evaluate, config: {}\n",
            "\u001b[2m\u001b[36m(DefaultActor pid=8468)\u001b[0m [Client 437] evaluate, config: {}\n",
            "\u001b[2m\u001b[36m(DefaultActor pid=8468)\u001b[0m [Client 14] evaluate, config: {}\n",
            "\u001b[2m\u001b[36m(DefaultActor pid=8468)\u001b[0m [Client 567] evaluate, config: {}\n",
            "\u001b[2m\u001b[36m(DefaultActor pid=8468)\u001b[0m [Client 103] evaluate, config: {}\n",
            "\u001b[2m\u001b[36m(DefaultActor pid=8468)\u001b[0m [Client 892] evaluate, config: {}\n",
            "\u001b[2m\u001b[36m(DefaultActor pid=8468)\u001b[0m [Client 678] evaluate, config: {}\n",
            "\u001b[2m\u001b[36m(DefaultActor pid=8468)\u001b[0m [Client 878] evaluate, config: {}\n",
            "\u001b[2m\u001b[36m(DefaultActor pid=8468)\u001b[0m [Client 841] evaluate, config: {}\n",
            "\u001b[2m\u001b[36m(DefaultActor pid=8468)\u001b[0m [Client 764] evaluate, config: {}\n",
            "\u001b[2m\u001b[36m(DefaultActor pid=8468)\u001b[0m [Client 146] evaluate, config: {}\n"
          ]
        },
        {
          "output_type": "stream",
          "name": "stderr",
          "text": [
            "DEBUG flwr 2023-11-29 11:38:19,854 | server.py:187 | evaluate_round 2 received 50 results and 0 failures\n",
            "DEBUG:flwr:evaluate_round 2 received 50 results and 0 failures\n",
            "DEBUG flwr 2023-11-29 11:38:19,860 | server.py:222 | fit_round 3: strategy sampled 25 clients (out of 1000)\n"
          ]
        },
        {
          "output_type": "stream",
          "name": "stdout",
          "text": [
            "\u001b[2m\u001b[36m(DefaultActor pid=8468)\u001b[0m [Client 163] evaluate, config: {}\n"
          ]
        },
        {
          "output_type": "stream",
          "name": "stderr",
          "text": [
            "DEBUG:flwr:fit_round 3: strategy sampled 25 clients (out of 1000)\n"
          ]
        },
        {
          "output_type": "stream",
          "name": "stdout",
          "text": [
            "\u001b[2m\u001b[36m(DefaultActor pid=8468)\u001b[0m [Client 916] evaluate, config: {}\n",
            "\u001b[2m\u001b[36m(DefaultActor pid=8468)\u001b[0m [Client 773, round 3] fit, config: {'server_round': 3, 'local_epochs': 3}\n",
            "\u001b[2m\u001b[36m(DefaultActor pid=8468)\u001b[0m Epoch 1: train loss 0.099953293800354, accuracy 0.15555555555555556\n",
            "\u001b[2m\u001b[36m(DefaultActor pid=8468)\u001b[0m Epoch 2: train loss 0.09739246964454651, accuracy 0.28888888888888886\n",
            "\u001b[2m\u001b[36m(DefaultActor pid=8468)\u001b[0m Epoch 3: train loss 0.09746187180280685, accuracy 0.2\n",
            "\u001b[2m\u001b[36m(DefaultActor pid=8468)\u001b[0m [Client 369, round 3] fit, config: {'server_round': 3, 'local_epochs': 3}\n",
            "\u001b[2m\u001b[36m(DefaultActor pid=8468)\u001b[0m Epoch 1: train loss 0.10109153389930725, accuracy 0.13333333333333333\n",
            "\u001b[2m\u001b[36m(DefaultActor pid=8468)\u001b[0m Epoch 2: train loss 0.09841343760490417, accuracy 0.17777777777777778\n",
            "\u001b[2m\u001b[36m(DefaultActor pid=8468)\u001b[0m Epoch 3: train loss 0.09632787108421326, accuracy 0.15555555555555556\n",
            "\u001b[2m\u001b[36m(DefaultActor pid=8468)\u001b[0m [Client 254, round 3] fit, config: {'server_round': 3, 'local_epochs': 3}\n",
            "\u001b[2m\u001b[36m(DefaultActor pid=8468)\u001b[0m Epoch 1: train loss 0.10286613553762436, accuracy 0.06666666666666667\n",
            "\u001b[2m\u001b[36m(DefaultActor pid=8468)\u001b[0m Epoch 2: train loss 0.10112101584672928, accuracy 0.15555555555555556\n",
            "\u001b[2m\u001b[36m(DefaultActor pid=8468)\u001b[0m Epoch 3: train loss 0.10005811601877213, accuracy 0.2\n",
            "\u001b[2m\u001b[36m(DefaultActor pid=8468)\u001b[0m [Client 119, round 3] fit, config: {'server_round': 3, 'local_epochs': 3}\n",
            "\u001b[2m\u001b[36m(DefaultActor pid=8468)\u001b[0m Epoch 1: train loss 0.10184985399246216, accuracy 0.1111111111111111\n",
            "\u001b[2m\u001b[36m(DefaultActor pid=8468)\u001b[0m Epoch 2: train loss 0.09915336966514587, accuracy 0.13333333333333333\n",
            "\u001b[2m\u001b[36m(DefaultActor pid=8468)\u001b[0m Epoch 3: train loss 0.09768046438694, accuracy 0.2222222222222222\n",
            "\u001b[2m\u001b[36m(DefaultActor pid=8468)\u001b[0m [Client 976, round 3] fit, config: {'server_round': 3, 'local_epochs': 3}\n",
            "\u001b[2m\u001b[36m(DefaultActor pid=8468)\u001b[0m Epoch 1: train loss 0.10109338164329529, accuracy 0.1111111111111111\n",
            "\u001b[2m\u001b[36m(DefaultActor pid=8468)\u001b[0m Epoch 2: train loss 0.09975359588861465, accuracy 0.26666666666666666\n",
            "\u001b[2m\u001b[36m(DefaultActor pid=8468)\u001b[0m Epoch 3: train loss 0.09762180596590042, accuracy 0.28888888888888886\n",
            "\u001b[2m\u001b[36m(DefaultActor pid=8468)\u001b[0m [Client 647, round 3] fit, config: {'server_round': 3, 'local_epochs': 3}\n",
            "\u001b[2m\u001b[36m(DefaultActor pid=8468)\u001b[0m Epoch 1: train loss 0.10134684294462204, accuracy 0.06666666666666667\n",
            "\u001b[2m\u001b[36m(DefaultActor pid=8468)\u001b[0m Epoch 2: train loss 0.1003880649805069, accuracy 0.17777777777777778\n",
            "\u001b[2m\u001b[36m(DefaultActor pid=8468)\u001b[0m Epoch 3: train loss 0.09810444712638855, accuracy 0.2\n",
            "\u001b[2m\u001b[36m(DefaultActor pid=8468)\u001b[0m [Client 974, round 3] fit, config: {'server_round': 3, 'local_epochs': 3}\n",
            "\u001b[2m\u001b[36m(DefaultActor pid=8468)\u001b[0m Epoch 1: train loss 0.10021468251943588, accuracy 0.1111111111111111\n",
            "\u001b[2m\u001b[36m(DefaultActor pid=8468)\u001b[0m Epoch 2: train loss 0.09735611826181412, accuracy 0.24444444444444444\n",
            "\u001b[2m\u001b[36m(DefaultActor pid=8468)\u001b[0m Epoch 3: train loss 0.09483858197927475, accuracy 0.3111111111111111\n",
            "\u001b[2m\u001b[36m(DefaultActor pid=8468)\u001b[0m [Client 61, round 3] fit, config: {'server_round': 3, 'local_epochs': 3}\n",
            "\u001b[2m\u001b[36m(DefaultActor pid=8468)\u001b[0m Epoch 1: train loss 0.09998543560504913, accuracy 0.24444444444444444\n",
            "\u001b[2m\u001b[36m(DefaultActor pid=8468)\u001b[0m Epoch 2: train loss 0.09698915481567383, accuracy 0.28888888888888886\n",
            "\u001b[2m\u001b[36m(DefaultActor pid=8468)\u001b[0m Epoch 3: train loss 0.09352292120456696, accuracy 0.26666666666666666\n",
            "\u001b[2m\u001b[36m(DefaultActor pid=8468)\u001b[0m [Client 292, round 3] fit, config: {'server_round': 3, 'local_epochs': 3}\n",
            "\u001b[2m\u001b[36m(DefaultActor pid=8468)\u001b[0m Epoch 1: train loss 0.10202301293611526, accuracy 0.06666666666666667\n",
            "\u001b[2m\u001b[36m(DefaultActor pid=8468)\u001b[0m Epoch 2: train loss 0.09933427721261978, accuracy 0.2222222222222222\n",
            "\u001b[2m\u001b[36m(DefaultActor pid=8468)\u001b[0m Epoch 3: train loss 0.09579648077487946, accuracy 0.2222222222222222\n",
            "\u001b[2m\u001b[36m(DefaultActor pid=8468)\u001b[0m [Client 658, round 3] fit, config: {'server_round': 3, 'local_epochs': 3}\n",
            "\u001b[2m\u001b[36m(DefaultActor pid=8468)\u001b[0m Epoch 1: train loss 0.1024373397231102, accuracy 0.15555555555555556\n",
            "\u001b[2m\u001b[36m(DefaultActor pid=8468)\u001b[0m Epoch 2: train loss 0.10084427893161774, accuracy 0.17777777777777778\n",
            "\u001b[2m\u001b[36m(DefaultActor pid=8468)\u001b[0m Epoch 3: train loss 0.09881246834993362, accuracy 0.17777777777777778\n",
            "\u001b[2m\u001b[36m(DefaultActor pid=8468)\u001b[0m [Client 108, round 3] fit, config: {'server_round': 3, 'local_epochs': 3}\n",
            "\u001b[2m\u001b[36m(DefaultActor pid=8468)\u001b[0m Epoch 1: train loss 0.10022541135549545, accuracy 0.15555555555555556\n",
            "\u001b[2m\u001b[36m(DefaultActor pid=8468)\u001b[0m Epoch 2: train loss 0.09848704934120178, accuracy 0.24444444444444444\n",
            "\u001b[2m\u001b[36m(DefaultActor pid=8468)\u001b[0m Epoch 3: train loss 0.09536579996347427, accuracy 0.2\n",
            "\u001b[2m\u001b[36m(DefaultActor pid=8468)\u001b[0m [Client 791, round 3] fit, config: {'server_round': 3, 'local_epochs': 3}\n",
            "\u001b[2m\u001b[36m(DefaultActor pid=8468)\u001b[0m Epoch 1: train loss 0.0992128998041153, accuracy 0.26666666666666666\n",
            "\u001b[2m\u001b[36m(DefaultActor pid=8468)\u001b[0m Epoch 2: train loss 0.0967697724699974, accuracy 0.2222222222222222\n",
            "\u001b[2m\u001b[36m(DefaultActor pid=8468)\u001b[0m Epoch 3: train loss 0.09279342740774155, accuracy 0.2222222222222222\n",
            "\u001b[2m\u001b[36m(DefaultActor pid=8468)\u001b[0m [Client 700, round 3] fit, config: {'server_round': 3, 'local_epochs': 3}\n",
            "\u001b[2m\u001b[36m(DefaultActor pid=8468)\u001b[0m Epoch 1: train loss 0.10213454067707062, accuracy 0.06666666666666667\n",
            "\u001b[2m\u001b[36m(DefaultActor pid=8468)\u001b[0m Epoch 2: train loss 0.09891946613788605, accuracy 0.3111111111111111\n",
            "\u001b[2m\u001b[36m(DefaultActor pid=8468)\u001b[0m Epoch 3: train loss 0.0962396189570427, accuracy 0.24444444444444444\n",
            "\u001b[2m\u001b[36m(DefaultActor pid=8468)\u001b[0m [Client 833, round 3] fit, config: {'server_round': 3, 'local_epochs': 3}\n",
            "\u001b[2m\u001b[36m(DefaultActor pid=8468)\u001b[0m Epoch 1: train loss 0.10225065052509308, accuracy 0.06666666666666667\n",
            "\u001b[2m\u001b[36m(DefaultActor pid=8468)\u001b[0m Epoch 2: train loss 0.09900718182325363, accuracy 0.2\n",
            "\u001b[2m\u001b[36m(DefaultActor pid=8468)\u001b[0m Epoch 3: train loss 0.09680800884962082, accuracy 0.17777777777777778\n",
            "\u001b[2m\u001b[36m(DefaultActor pid=8468)\u001b[0m [Client 35, round 3] fit, config: {'server_round': 3, 'local_epochs': 3}\n",
            "\u001b[2m\u001b[36m(DefaultActor pid=8468)\u001b[0m Epoch 1: train loss 0.0980616882443428, accuracy 0.2222222222222222\n",
            "\u001b[2m\u001b[36m(DefaultActor pid=8468)\u001b[0m Epoch 2: train loss 0.09561692923307419, accuracy 0.2222222222222222\n",
            "\u001b[2m\u001b[36m(DefaultActor pid=8468)\u001b[0m Epoch 3: train loss 0.09375036507844925, accuracy 0.24444444444444444\n",
            "\u001b[2m\u001b[36m(DefaultActor pid=8468)\u001b[0m [Client 8, round 3] fit, config: {'server_round': 3, 'local_epochs': 3}\n",
            "\u001b[2m\u001b[36m(DefaultActor pid=8468)\u001b[0m Epoch 1: train loss 0.10063081234693527, accuracy 0.15555555555555556\n",
            "\u001b[2m\u001b[36m(DefaultActor pid=8468)\u001b[0m Epoch 2: train loss 0.09816931933164597, accuracy 0.26666666666666666\n",
            "\u001b[2m\u001b[36m(DefaultActor pid=8468)\u001b[0m Epoch 3: train loss 0.09423451125621796, accuracy 0.2222222222222222\n",
            "\u001b[2m\u001b[36m(DefaultActor pid=8468)\u001b[0m [Client 432, round 3] fit, config: {'server_round': 3, 'local_epochs': 3}\n",
            "\u001b[2m\u001b[36m(DefaultActor pid=8468)\u001b[0m Epoch 1: train loss 0.10013281553983688, accuracy 0.15555555555555556\n",
            "\u001b[2m\u001b[36m(DefaultActor pid=8468)\u001b[0m Epoch 2: train loss 0.09905169159173965, accuracy 0.15555555555555556\n",
            "\u001b[2m\u001b[36m(DefaultActor pid=8468)\u001b[0m Epoch 3: train loss 0.0979170948266983, accuracy 0.15555555555555556\n",
            "\u001b[2m\u001b[36m(DefaultActor pid=8468)\u001b[0m [Client 665, round 3] fit, config: {'server_round': 3, 'local_epochs': 3}\n",
            "\u001b[2m\u001b[36m(DefaultActor pid=8468)\u001b[0m Epoch 1: train loss 0.10191038250923157, accuracy 0.06666666666666667\n",
            "\u001b[2m\u001b[36m(DefaultActor pid=8468)\u001b[0m Epoch 2: train loss 0.09968682378530502, accuracy 0.2\n",
            "\u001b[2m\u001b[36m(DefaultActor pid=8468)\u001b[0m Epoch 3: train loss 0.09727249294519424, accuracy 0.2\n",
            "\u001b[2m\u001b[36m(DefaultActor pid=8468)\u001b[0m [Client 717, round 3] fit, config: {'server_round': 3, 'local_epochs': 3}\n",
            "\u001b[2m\u001b[36m(DefaultActor pid=8468)\u001b[0m Epoch 1: train loss 0.1022469624876976, accuracy 0.1111111111111111\n",
            "\u001b[2m\u001b[36m(DefaultActor pid=8468)\u001b[0m Epoch 2: train loss 0.09955422580242157, accuracy 0.17777777777777778\n",
            "\u001b[2m\u001b[36m(DefaultActor pid=8468)\u001b[0m Epoch 3: train loss 0.0985000729560852, accuracy 0.2222222222222222\n",
            "\u001b[2m\u001b[36m(DefaultActor pid=8468)\u001b[0m [Client 710, round 3] fit, config: {'server_round': 3, 'local_epochs': 3}\n",
            "\u001b[2m\u001b[36m(DefaultActor pid=8468)\u001b[0m Epoch 1: train loss 0.1015312448143959, accuracy 0.044444444444444446\n",
            "\u001b[2m\u001b[36m(DefaultActor pid=8468)\u001b[0m Epoch 2: train loss 0.09833315014839172, accuracy 0.13333333333333333\n",
            "\u001b[2m\u001b[36m(DefaultActor pid=8468)\u001b[0m Epoch 3: train loss 0.09770819544792175, accuracy 0.15555555555555556\n",
            "\u001b[2m\u001b[36m(DefaultActor pid=8468)\u001b[0m [Client 571, round 3] fit, config: {'server_round': 3, 'local_epochs': 3}\n",
            "\u001b[2m\u001b[36m(DefaultActor pid=8468)\u001b[0m Epoch 1: train loss 0.10084063559770584, accuracy 0.17777777777777778\n",
            "\u001b[2m\u001b[36m(DefaultActor pid=8468)\u001b[0m Epoch 2: train loss 0.09756163507699966, accuracy 0.2\n",
            "\u001b[2m\u001b[36m(DefaultActor pid=8468)\u001b[0m Epoch 3: train loss 0.09547671675682068, accuracy 0.2222222222222222\n",
            "\u001b[2m\u001b[36m(DefaultActor pid=8468)\u001b[0m [Client 453, round 3] fit, config: {'server_round': 3, 'local_epochs': 3}\n",
            "\u001b[2m\u001b[36m(DefaultActor pid=8468)\u001b[0m Epoch 1: train loss 0.10224830359220505, accuracy 0.1111111111111111\n",
            "\u001b[2m\u001b[36m(DefaultActor pid=8468)\u001b[0m Epoch 2: train loss 0.09908447414636612, accuracy 0.15555555555555556\n",
            "\u001b[2m\u001b[36m(DefaultActor pid=8468)\u001b[0m Epoch 3: train loss 0.0954202339053154, accuracy 0.2222222222222222\n",
            "\u001b[2m\u001b[36m(DefaultActor pid=8468)\u001b[0m [Client 599, round 3] fit, config: {'server_round': 3, 'local_epochs': 3}\n",
            "\u001b[2m\u001b[36m(DefaultActor pid=8468)\u001b[0m Epoch 1: train loss 0.10223621875047684, accuracy 0.08888888888888889\n",
            "\u001b[2m\u001b[36m(DefaultActor pid=8468)\u001b[0m Epoch 2: train loss 0.10065808147192001, accuracy 0.2222222222222222\n",
            "\u001b[2m\u001b[36m(DefaultActor pid=8468)\u001b[0m Epoch 3: train loss 0.09947104007005692, accuracy 0.2222222222222222\n",
            "\u001b[2m\u001b[36m(DefaultActor pid=8468)\u001b[0m [Client 756, round 3] fit, config: {'server_round': 3, 'local_epochs': 3}\n",
            "\u001b[2m\u001b[36m(DefaultActor pid=8468)\u001b[0m Epoch 1: train loss 0.10102932155132294, accuracy 0.13333333333333333\n",
            "\u001b[2m\u001b[36m(DefaultActor pid=8468)\u001b[0m Epoch 2: train loss 0.09860148280858994, accuracy 0.17777777777777778\n",
            "\u001b[2m\u001b[36m(DefaultActor pid=8468)\u001b[0m Epoch 3: train loss 0.09681964665651321, accuracy 0.2222222222222222\n",
            "\u001b[2m\u001b[36m(DefaultActor pid=8468)\u001b[0m [Client 271, round 3] fit, config: {'server_round': 3, 'local_epochs': 3}\n"
          ]
        },
        {
          "output_type": "stream",
          "name": "stderr",
          "text": [
            "DEBUG flwr 2023-11-29 11:38:59,333 | server.py:236 | fit_round 3 received 25 results and 0 failures\n",
            "DEBUG:flwr:fit_round 3 received 25 results and 0 failures\n",
            "DEBUG flwr 2023-11-29 11:38:59,387 | server.py:173 | evaluate_round 3: strategy sampled 50 clients (out of 1000)\n",
            "DEBUG:flwr:evaluate_round 3: strategy sampled 50 clients (out of 1000)\n"
          ]
        },
        {
          "output_type": "stream",
          "name": "stdout",
          "text": [
            "\u001b[2m\u001b[36m(DefaultActor pid=8468)\u001b[0m Epoch 1: train loss 0.1006162017583847, accuracy 0.13333333333333333\n",
            "\u001b[2m\u001b[36m(DefaultActor pid=8468)\u001b[0m Epoch 2: train loss 0.10014144331216812, accuracy 0.15555555555555556\n",
            "\u001b[2m\u001b[36m(DefaultActor pid=8468)\u001b[0m Epoch 3: train loss 0.09947309643030167, accuracy 0.2\n",
            "\u001b[2m\u001b[36m(DefaultActor pid=8468)\u001b[0m [Client 177] evaluate, config: {}\n",
            "\u001b[2m\u001b[36m(DefaultActor pid=8468)\u001b[0m [Client 585] evaluate, config: {}\n",
            "\u001b[2m\u001b[36m(DefaultActor pid=8468)\u001b[0m [Client 270] evaluate, config: {}\n",
            "\u001b[2m\u001b[36m(DefaultActor pid=8468)\u001b[0m [Client 471] evaluate, config: {}\n",
            "\u001b[2m\u001b[36m(DefaultActor pid=8468)\u001b[0m [Client 273] evaluate, config: {}\n",
            "\u001b[2m\u001b[36m(DefaultActor pid=8468)\u001b[0m [Client 392] evaluate, config: {}\n",
            "\u001b[2m\u001b[36m(DefaultActor pid=8468)\u001b[0m [Client 61] evaluate, config: {}\n",
            "\u001b[2m\u001b[36m(DefaultActor pid=8468)\u001b[0m [Client 798] evaluate, config: {}\n",
            "\u001b[2m\u001b[36m(DefaultActor pid=8468)\u001b[0m [Client 643] evaluate, config: {}\n",
            "\u001b[2m\u001b[36m(DefaultActor pid=8468)\u001b[0m [Client 802] evaluate, config: {}\n",
            "\u001b[2m\u001b[36m(DefaultActor pid=8468)\u001b[0m [Client 133] evaluate, config: {}\n",
            "\u001b[2m\u001b[36m(DefaultActor pid=8468)\u001b[0m [Client 788] evaluate, config: {}\n",
            "\u001b[2m\u001b[36m(DefaultActor pid=8468)\u001b[0m [Client 951] evaluate, config: {}\n",
            "\u001b[2m\u001b[36m(DefaultActor pid=8468)\u001b[0m [Client 5] evaluate, config: {}\n",
            "\u001b[2m\u001b[36m(DefaultActor pid=8468)\u001b[0m [Client 33] evaluate, config: {}\n",
            "\u001b[2m\u001b[36m(DefaultActor pid=8468)\u001b[0m [Client 175] evaluate, config: {}\n",
            "\u001b[2m\u001b[36m(DefaultActor pid=8468)\u001b[0m [Client 497] evaluate, config: {}\n",
            "\u001b[2m\u001b[36m(DefaultActor pid=8468)\u001b[0m [Client 944] evaluate, config: {}\n",
            "\u001b[2m\u001b[36m(DefaultActor pid=8468)\u001b[0m [Client 600] evaluate, config: {}\n",
            "\u001b[2m\u001b[36m(DefaultActor pid=8468)\u001b[0m [Client 804] evaluate, config: {}\n",
            "\u001b[2m\u001b[36m(DefaultActor pid=8468)\u001b[0m [Client 890] evaluate, config: {}\n",
            "\u001b[2m\u001b[36m(DefaultActor pid=8468)\u001b[0m [Client 247] evaluate, config: {}\n",
            "\u001b[2m\u001b[36m(DefaultActor pid=8468)\u001b[0m [Client 369] evaluate, config: {}\n",
            "\u001b[2m\u001b[36m(DefaultActor pid=8468)\u001b[0m [Client 266] evaluate, config: {}\n",
            "\u001b[2m\u001b[36m(DefaultActor pid=8468)\u001b[0m [Client 828] evaluate, config: {}\n",
            "\u001b[2m\u001b[36m(DefaultActor pid=8468)\u001b[0m [Client 424] evaluate, config: {}\n",
            "\u001b[2m\u001b[36m(DefaultActor pid=8468)\u001b[0m [Client 662] evaluate, config: {}\n",
            "\u001b[2m\u001b[36m(DefaultActor pid=8468)\u001b[0m [Client 807] evaluate, config: {}\n",
            "\u001b[2m\u001b[36m(DefaultActor pid=8468)\u001b[0m [Client 633] evaluate, config: {}\n",
            "\u001b[2m\u001b[36m(DefaultActor pid=8468)\u001b[0m [Client 595] evaluate, config: {}\n",
            "\u001b[2m\u001b[36m(DefaultActor pid=8468)\u001b[0m [Client 224] evaluate, config: {}\n",
            "\u001b[2m\u001b[36m(DefaultActor pid=8468)\u001b[0m [Client 508] evaluate, config: {}\n",
            "\u001b[2m\u001b[36m(DefaultActor pid=8468)\u001b[0m [Client 659] evaluate, config: {}\n",
            "\u001b[2m\u001b[36m(DefaultActor pid=8468)\u001b[0m [Client 901] evaluate, config: {}\n",
            "\u001b[2m\u001b[36m(DefaultActor pid=8468)\u001b[0m [Client 195] evaluate, config: {}\n",
            "\u001b[2m\u001b[36m(DefaultActor pid=8468)\u001b[0m [Client 905] evaluate, config: {}\n",
            "\u001b[2m\u001b[36m(DefaultActor pid=8468)\u001b[0m [Client 405] evaluate, config: {}\n",
            "\u001b[2m\u001b[36m(DefaultActor pid=8468)\u001b[0m [Client 17] evaluate, config: {}\n",
            "\u001b[2m\u001b[36m(DefaultActor pid=8468)\u001b[0m [Client 454] evaluate, config: {}\n",
            "\u001b[2m\u001b[36m(DefaultActor pid=8468)\u001b[0m [Client 756] evaluate, config: {}\n",
            "\u001b[2m\u001b[36m(DefaultActor pid=8468)\u001b[0m [Client 650] evaluate, config: {}\n",
            "\u001b[2m\u001b[36m(DefaultActor pid=8468)\u001b[0m [Client 111] evaluate, config: {}\n",
            "\u001b[2m\u001b[36m(DefaultActor pid=8468)\u001b[0m [Client 11] evaluate, config: {}\n",
            "\u001b[2m\u001b[36m(DefaultActor pid=8468)\u001b[0m [Client 596] evaluate, config: {}\n",
            "\u001b[2m\u001b[36m(DefaultActor pid=8468)\u001b[0m [Client 647] evaluate, config: {}\n",
            "\u001b[2m\u001b[36m(DefaultActor pid=8468)\u001b[0m [Client 609] evaluate, config: {}\n",
            "\u001b[2m\u001b[36m(DefaultActor pid=8468)\u001b[0m [Client 876] evaluate, config: {}\n",
            "\u001b[2m\u001b[36m(DefaultActor pid=8468)\u001b[0m [Client 113] evaluate, config: {}\n",
            "\u001b[2m\u001b[36m(DefaultActor pid=8468)\u001b[0m [Client 560] evaluate, config: {}\n"
          ]
        },
        {
          "output_type": "stream",
          "name": "stderr",
          "text": [
            "DEBUG flwr 2023-11-29 11:40:18,412 | server.py:187 | evaluate_round 3 received 50 results and 0 failures\n",
            "DEBUG:flwr:evaluate_round 3 received 50 results and 0 failures\n",
            "INFO flwr 2023-11-29 11:40:18,415 | server.py:153 | FL finished in 365.82960991999994\n",
            "INFO:flwr:FL finished in 365.82960991999994\n",
            "INFO flwr 2023-11-29 11:40:18,417 | app.py:226 | app_fit: losses_distributed [(1, 0.4597048997879027), (2, 0.4561514654159546), (3, 0.45142192745208737)]\n",
            "INFO:flwr:app_fit: losses_distributed [(1, 0.4597048997879027), (2, 0.4561514654159546), (3, 0.45142192745208737)]\n",
            "INFO flwr 2023-11-29 11:40:18,421 | app.py:227 | app_fit: metrics_distributed_fit {}\n",
            "INFO:flwr:app_fit: metrics_distributed_fit {}\n",
            "INFO flwr 2023-11-29 11:40:18,424 | app.py:228 | app_fit: metrics_distributed {}\n",
            "INFO:flwr:app_fit: metrics_distributed {}\n",
            "INFO flwr 2023-11-29 11:40:18,426 | app.py:229 | app_fit: losses_centralized []\n",
            "INFO:flwr:app_fit: losses_centralized []\n",
            "INFO flwr 2023-11-29 11:40:18,429 | app.py:230 | app_fit: metrics_centralized {}\n",
            "INFO:flwr:app_fit: metrics_centralized {}\n"
          ]
        },
        {
          "output_type": "stream",
          "name": "stdout",
          "text": [
            "\u001b[2m\u001b[36m(DefaultActor pid=8468)\u001b[0m [Client 426] evaluate, config: {}\n"
          ]
        },
        {
          "output_type": "execute_result",
          "data": {
            "text/plain": [
              "History (loss, distributed):\n",
              "\tround 1: 0.4597048997879027\n",
              "\tround 2: 0.4561514654159546\n",
              "\tround 3: 0.45142192745208737"
            ]
          },
          "metadata": {},
          "execution_count": 15
        }
      ]
    }
  ]
}