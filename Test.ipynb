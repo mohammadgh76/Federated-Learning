{
  "nbformat": 4,
  "nbformat_minor": 0,
  "metadata": {
    "colab": {
      "provenance": [],
      "authorship_tag": "ABX9TyMQ/TcTIwzzhtN7sUqm4RaC"
    },
    "kernelspec": {
      "name": "python3",
      "display_name": "Python 3"
    },
    "language_info": {
      "name": "python"
    }
  },
  "cells": [
    {
      "cell_type": "code",
      "execution_count": null,
      "metadata": {
        "id": "ZoB2yEv9A9uL"
      },
      "outputs": [],
      "source": [
        "import collections\n",
        "import functools\n",
        "import io\n",
        "import os\n",
        "import requests\n",
        "import zipfile\n",
        "from typing import List, Optional, Tuple\n",
        "\n",
        "import matplotlib.pyplot as plt\n",
        "import numpy as np\n",
        "import pandas as pd\n",
        "import tensorflow as tf\n",
        "# import tensorflow_federated as tff\n",
        "\n",
        "np.random.seed(42)\n",
        "from scipy.io import arff\n",
        "import numpy as np\n",
        "import pandas as pd\n",
        "\n",
        "import numpy as np\n",
        "import pandas as pd\n",
        "\n",
        "import pandas as pd\n",
        "from scipy.io import arff\n",
        "data = arff.loadarff('/content/KDDTrain+_20Percent-new.arff')\n",
        "train= pd.DataFrame(data[0])\n",
        "train.head()\n",
        "\n"
      ]
    }
  ]
}