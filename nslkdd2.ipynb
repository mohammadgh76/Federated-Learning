{
  "nbformat": 4,
  "nbformat_minor": 0,
  "metadata": {
    "colab": {
      "provenance": [],
      "gpuType": "T4",
      "authorship_tag": "ABX9TyNeek12+7l/j61fjGlgWvNK"
    },
    "kernelspec": {
      "name": "python3",
      "display_name": "Python 3"
    },
    "language_info": {
      "name": "python"
    },
    "accelerator": "GPU"
  },
  "cells": [
    {
      "cell_type": "code",
      "execution_count": 23,
      "metadata": {
        "colab": {
          "base_uri": "https://localhost:8080/"
        },
        "id": "iycl2TzR4DKw",
        "outputId": "1fc3f2f5-9a2d-41a6-d438-829ae8c15504"
      },
      "outputs": [
        {
          "output_type": "stream",
          "name": "stdout",
          "text": [
            "protocol_type\n",
            "service\n",
            "flag\n",
            "labels\n"
          ]
        },
        {
          "output_type": "execute_result",
          "data": {
            "text/plain": [
              "<bound method DatasetV2.unique of <_TensorDataset element_spec=TensorSpec(shape=(125973, 36), dtype=tf.float64, name=None)>>"
            ]
          },
          "metadata": {},
          "execution_count": 23
        }
      ],
      "source": [
        "import types\n",
        "from numpy.lib.arraysetops import unique\n",
        "import collections\n",
        "\n",
        "import numpy as np\n",
        "import tensorflow as tf\n",
        "# import tensorflow_federated as tff\n",
        "import pandas as pd\n",
        "import matplotlib.pyplot as plt\n",
        "import seaborn as sns\n",
        "import plotly.express as px\n",
        "\n",
        "np.random.seed(0)\n",
        "# tff.federated_computation(lambda: \"dfkjsdjfjklfsd\")()\n",
        "\n",
        "trn = pd.read_csv(\"/content/kdd_train.csv\")\n",
        "trn.isnull().sum()\n",
        "trn.nunique()\n",
        "types = trn[\"labels\"].unique()\n",
        "types = types[1:]\n",
        "trn[\"labels\"].replace(to_replace=types,value=\"attacking\",inplace = True)\n",
        "c = len(trn.select_dtypes(include=[\"number\"]).columns)\n",
        "\n",
        "cols = ['duration', 'src_bytes', 'dst_bytes', 'land', 'wrong_fragment',\n",
        "       'urgent', 'hot', 'num_failed_logins', 'logged_in', 'num_compromised',\n",
        "       'root_shell', 'su_attempted', 'num_root', 'num_file_creations',\n",
        "       'num_shells', 'num_access_files', 'num_outbound_cmds', 'is_host_login',\n",
        "       'is_guest_login', 'count', 'srv_count', 'serror_rate',\n",
        "       'srv_serror_rate', 'rerror_rate', 'srv_rerror_rate', 'same_srv_rate',\n",
        "       'diff_srv_rate', 'srv_diff_host_rate', 'dst_host_count',\n",
        "       'dst_host_srv_count', 'dst_host_same_srv_rate',\n",
        "       'dst_host_diff_srv_rate', 'dst_host_same_src_port_rate',\n",
        "       'dst_host_srv_diff_host_rate', 'dst_host_serror_rate',\n",
        "       'dst_host_srv_serror_rate', 'dst_host_rerror_rate',\n",
        "       'dst_host_srv_rerror_rate']\n",
        "\n",
        "for col in trn.select_dtypes(include=[\"object\"]):\n",
        "    print(col)\n",
        "\n",
        "from sklearn.preprocessing import LabelEncoder\n",
        "cols = ['protocol_type','service','flag','labels']\n",
        "for i in cols:\n",
        "    en = LabelEncoder()\n",
        "    trn[i] = en.fit_transform(trn[i])\n",
        "\n",
        "\n",
        "corr_matrix = trn.corr().abs()\n",
        "upper = corr_matrix.where(np.triu(np.ones(corr_matrix.shape), k=1).astype(np.bool_))\n",
        "to_drop = [column for column in upper.columns if any(upper[column] > 0.95)]\n",
        "trn.drop(to_drop, axis=1, inplace=True)\n",
        "\n",
        "# numeric_feature_names = ['duration', 'src_bytes', 'dst_bytes', 'land', 'wrong_fragment',\n",
        "#        'urgent', 'hot', 'num_failed_logins', 'logged_in', 'num_compromised',\n",
        "#        'root_shell', 'su_attempted',  'num_file_creations',\n",
        "#        'num_shells', 'num_access_files', 'num_outbound_cmds', 'is_host_login',\n",
        "#        'is_guest_login', 'count', 'srv_count', 'serror_rate',\n",
        "#         'rerror_rate', 'same_srv_rate',\n",
        "#        'diff_srv_rate', 'srv_diff_host_rate', 'dst_host_count',\n",
        "#        'dst_host_srv_count', 'dst_host_same_srv_rate',\n",
        "#        'dst_host_diff_srv_rate', 'dst_host_same_src_port_rate',\n",
        "#        'dst_host_srv_diff_host_rate']\n",
        "# numeric_features = trn[numeric_feature_names]\n",
        "# numeric_features.head()\n",
        "trn.head(10)\n",
        "\n",
        "tf.convert_to_tensor(trn)\n",
        "train_sample = tf.data.Dataset.from_tensors(trn)"
      ]
    }
  ]
}